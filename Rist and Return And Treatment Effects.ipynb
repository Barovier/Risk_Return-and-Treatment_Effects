{
 "cells": [
  {
   "cell_type": "markdown",
   "metadata": {
    "deletable": false,
    "editable": false,
    "nbgrader": {
     "grade": false,
     "locked": true,
     "solution": false
    }
   },
   "source": [
    "# HW2 Part 2 - MGT 6203"
   ]
  },
  {
   "cell_type": "markdown",
   "metadata": {
    "deletable": false,
    "editable": false,
    "nbgrader": {
     "grade": false,
     "locked": true,
     "solution": false
    }
   },
   "source": [
    "## Instructions:\n",
    "\n",
    "\n",
    "**For Homework 1 Part 2, please use this R notebook in Vocareum to submit your solutions. Vocareum is an educational cloud platform for programming in several languages; it is based on the Jupyter notebook environment. This platform allows us to move homework assignments to the cloud. The advantages are that all of you will be working in the same coding environment AND peer reviewers will be able to run your R code easily. This way we eliminate some issues we might encounter when working on an individual/local basis, such as library installations and RStudio OS requirements; R notebooks work on mobile platforms and tablets.**\n",
    "\n",
    "**With R notebooks, you will be learning a new way of presenting data analysis reports, that is neat and flexible, where formatted text and code can easily coexist on the same page. Notebooks can be also collaborative when needed. For now, we are asking you to do the homework individually. Think of R notebooks as interactive program-based Google Docs or MS-Office 360 docs; these are gradually replacing local files on our computers. **\n",
    "\n",
    "**Many of you are new to the R notebooks and Vocareum platforms. We will provide TA help in Piazza with specific code if you have questions. Here we list some important things to get you started. Please read through them carefully.**\n",
    "\n",
    "\n",
    "<ol>\n",
    "<li>Even though we are moving from your local environment to the cloud, **our expectations for your homework will remain the same**. Same goes for the rubrics.</li>\n",
    "\n",
    "<li>Vocareum has its own cloud based file system, the data files you will be using for the assignments will be stored in the cloud with path **\"../resource/asnlib/publicdata/FILENAME.csv\"**. You will be able to import them with the same method as you do in RStudio, simply substitute the path name to the one specified in the instructions. You won't be able to modify these data files.</li>\n",
    "\n",
    "<li>You will be able to find the data files on Canvas/edX if you would like to explore them offline.</li>\n",
    "\n",
    "<li>**For coding questions, you will be graded on the R code as well as the output** in your submission.</li>\n",
    "\n",
    "<li>**For interpretations or short response questions, please type the answers in the notebook's Markdown cells**. To change a code cell to a Markdown cell, click on the cell, and in the drop-down menu above, switch the type of the cell block from \"code\" to \"Markdown\". **Adding print statements to code cells for short response/interpretation questions is also fine, as long as we can clearly see the output of your response**.</li>\n",
    "\n",
    "<li>You don't need to, but if you would like to learn more about how to format your Markdown cells, visit the following site: https://www.earthdatascience.org/courses/intro-to-earth-data-science/file-formats/use-text-files/format-text-with-markdown-jupyter-notebook/. Jupyter notebooks also support LaTeX.</li>\n",
    "\n",
    "<li>**Feel free to delete or add as many additional cells as you need**. But please try to keep your notebook clean and keep your solution directly under its respective question to avoid confusion.</li>\n",
    "\n",
    "<li>You may delete the #SOLUTION BEGINS/ENDS HERE comments from the cell blocks, they are just pointers that indicate where to put your solutions.</li>\n",
    "\n",
    "<li>**When you have finished the assignment, remember to rerun your notebook to check if it runs correctly.** You can do so by going to **Kernel-> Restart & Run All**. You may lose points if your solutions do not run successfully.</li>\n",
    "\n",
    "<li>**Click the \"Submit\" button on the top right corner to turn in your assignment**. Your assignment will enter the next phase for peer review.</li>\n",
    "\n",
    "<li>**You are allowed a total of 2 submissions for this assignment.** So make sure that you submit your responses carefully. You will be able to come back and resubmit your assignment as long as it is before the start of the peer review period.</li>\n",
    "\n",
    "<li>**Please remember to finish the peer reviews after you have submitted your assignment.** You are responsible for grading the work of three of your peers thoroughly, and in adherence to the rubrics. And you will be held accountable for peer grading. **There will be a 30% penalty to your grade if you fail to complete one or more peer reviews in proper fashion.**</li>\n",
    "\n",
    "<li>Feel free to address your questions, concerns, and provide any feedback on Piazza. We will continuously try to improve going forward.</li>\n",
    "\n",
    "<li>Good Luck!</li>\n",
    "\n",
    "</ol>\n",
    "\n"
   ]
  },
  {
   "cell_type": "markdown",
   "metadata": {
    "deletable": false,
    "editable": false,
    "nbgrader": {
     "grade": false,
     "locked": true,
     "solution": false
    }
   },
   "source": [
    "# About Package Installation:\n",
    "\n",
    "Most of the packages (if not all) that you will need to complete this assignment are already installed in this environment. An easy way to check this is to run the command: library(PackageName). If this command runs successfully then the package was already installed and has been successfully attached to the code. If the command gave an error saying the Package was not found then follow the steps below to successfully install the package and attach it to the code: \n",
    "\n",
    "Use *installed.packages()* command to return a table of the packages that are preinstalled in the environment.\n",
    "\n",
    "To attach a preinstalled library in Vocareum, simply use *library(PackageName)*\n",
    "\n",
    "**To install a package that does not come with the provided environment, please use the following syntax:**\n",
    "\n",
    "*install.packages(\"PackageName\", lib=\"../work/\")*\n",
    "\n",
    "**To attach a library you just installed, use the following syntax:**\n",
    "\n",
    "*library(PackageName, lib.loc=\"../work/\")*\n",
    "\n",
    "Make sure the file location is the same as the above code snippets *(\"../work/\")*\n",
    "\n",
    "\n"
   ]
  },
  {
   "cell_type": "markdown",
   "metadata": {
    "deletable": false,
    "editable": false,
    "nbgrader": {
     "grade": false,
     "locked": true,
     "solution": false
    }
   },
   "source": [
    "## Q1. (20 Points Total)\n",
    "\n",
    "**Use the Dataset \"product_sales.csv\" and the information below to answer the questions.**\n",
    "\n",
    "Company ABC launched two similar products: \"TechPad\" and \"ElectroTab\". After observing initial sales, a major software update  was provided to \"ElectroTab\" product. We want to use the data from the company to observe the difference in monthly sales of these products before and after the software update.\n",
    "\n",
    "Note: The variable 'product' indicates which product the sale belongs to: product = TechPad means the sale is for the TechPad, else the sale is for ElectroTab.\n",
    "\n",
    "Note: The variable 'sales_volume' contains the number of units sold in that month.\n",
    "\n",
    "Note: The variable 'post_update' indicates whether the data was collected before or after the software update. i.e. post_update = 1 indicates the data was collected after the software update, and post_update = 0 indicates it was collected before the update.\n",
    "\n",
    "\n"
   ]
  },
  {
   "cell_type": "markdown",
   "metadata": {
    "deletable": false,
    "editable": false,
    "nbgrader": {
     "grade": false,
     "locked": true,
     "solution": false
    }
   },
   "source": [
    "### A.  In the above problem, classify the sales into four groups and assign the corresponding group with the group title (A,B,C, and D) where the group titles are as follows: (4 Points)\n",
    "\n",
    "| |Before|After|\n",
    "|------|------|------|\n",
    "|TechPad (control group)|A|C|\n",
    "|ElectroTab (treatment group)|B|D|\n",
    "\n",
    "**Note: This is a theoretical question, you just need to identify each group with a short description of what the group is. You don’t need to create a column categorizing the datapoints into groups.**"
   ]
  },
  {
   "cell_type": "markdown",
   "metadata": {
    "collapsed": true
   },
   "source": [
    "# SOLUTION BEGINS HERE\n",
    "\n",
    "Group A represents initial sales for the control group Techpad during the period before the software upgrade to ElectroTab. The control group, in this case, Techpad does not receive the software upgrade.\n",
    "\n",
    "\n",
    "Group B represents initial sales for the treatment group, ElectroTab, during the period before the software upgrade. \n",
    "\n",
    "\n",
    "Group C represents subsequent sales for Techpad after ElectroTab had its software upgrade. This period is called \"After\", representing after the treatment. \n",
    "\n",
    "\n",
    "Group D represents subsequent sales for ElectroTab, \"after\" their software upgrade. \n",
    "\n",
    "\n",
    "# SOLUTION ENDS HERE"
   ]
  },
  {
   "cell_type": "markdown",
   "metadata": {
    "deletable": false,
    "editable": false,
    "nbgrader": {
     "grade": false,
     "locked": true,
     "solution": false
    }
   },
   "source": [
    "### B. Calculate the mean of the 'sales_volume' variable for each of the four groups in R and print them. Round your answers to two decimal places. (6 Points)"
   ]
  },
  {
   "cell_type": "code",
   "execution_count": 1,
   "metadata": {
    "collapsed": true,
    "deletable": false,
    "editable": false,
    "nbgrader": {
     "grade": false,
     "locked": true,
     "solution": false
    }
   },
   "outputs": [],
   "source": [
    "# Read the dataset\n",
    "product_sales = read.csv(\"../resource/asnlib/publicdata/product_sales.csv\")"
   ]
  },
  {
   "cell_type": "code",
   "execution_count": 4,
   "metadata": {},
   "outputs": [
    {
     "name": "stdout",
     "output_type": "stream",
     "text": [
      "   month    product sales_volume post_update\n",
      "1      1    TechPad          480           0\n",
      "2      1 ElectroTab          515           0\n",
      "3      2    TechPad          505           0\n",
      "4      2 ElectroTab          490           0\n",
      "5      3    TechPad          495           0\n",
      "6      3 ElectroTab          510           0\n",
      "7      4    TechPad          520           0\n",
      "8      4 ElectroTab          505           0\n",
      "9      5    TechPad          510           0\n",
      "10     5 ElectroTab          515           0\n",
      "11     6    TechPad          505           0\n",
      "12     6 ElectroTab          520           0\n",
      "13     7    TechPad          500           0\n",
      "14     7 ElectroTab          495           0\n",
      "15     8    TechPad          515           0\n",
      "16     8 ElectroTab          490           0\n",
      "17     9    TechPad          490           0\n",
      "18     9 ElectroTab          505           0\n",
      "19    10    TechPad          510           0\n",
      "20    10 ElectroTab          515           0\n",
      "21    11    TechPad          515           0\n",
      "22    11 ElectroTab          505           0\n",
      "23    12    TechPad          520           0\n",
      "24    12 ElectroTab          510           0\n",
      "25    13    TechPad          570           1\n",
      "26    13 ElectroTab          505           1\n",
      "27    14    TechPad          580           1\n",
      "28    14 ElectroTab          495           1\n",
      "29    15    TechPad          575           1\n",
      "30    15 ElectroTab          500           1\n",
      "31    16    TechPad          580           1\n",
      "32    16 ElectroTab          490           1\n",
      "33    17    TechPad          570           1\n",
      "34    17 ElectroTab          515           1\n",
      "35    18    TechPad          585           1\n",
      "36    18 ElectroTab          510           1\n",
      "37    19    TechPad          575           1\n",
      "38    19 ElectroTab          505           1\n",
      "39    20    TechPad          590           1\n",
      "40    20 ElectroTab          495           1\n",
      "41    21    TechPad          575           1\n",
      "42    21 ElectroTab          510           1\n",
      "43    22    TechPad          580           1\n",
      "44    22 ElectroTab          505           1\n",
      "45    23    TechPad          590           1\n",
      "46    23 ElectroTab          480           1\n",
      "47    24    TechPad          600           1\n",
      "48    24 ElectroTab          465           1\n"
     ]
    }
   ],
   "source": [
    "# Print the head of the dataset\n",
    "print(product_sales)"
   ]
  },
  {
   "cell_type": "code",
   "execution_count": 5,
   "metadata": {},
   "outputs": [
    {
     "data": {
      "text/html": [
       "<table>\n",
       "<caption>A data.frame: 4 × 3</caption>\n",
       "<thead>\n",
       "\t<tr><th scope=col>Group.1</th><th scope=col>Group.2</th><th scope=col>x</th></tr>\n",
       "\t<tr><th scope=col>&lt;chr&gt;</th><th scope=col>&lt;int&gt;</th><th scope=col>&lt;dbl&gt;</th></tr>\n",
       "</thead>\n",
       "<tbody>\n",
       "\t<tr><td>ElectroTab</td><td>0</td><td>506.25</td></tr>\n",
       "\t<tr><td>TechPad   </td><td>0</td><td>505.42</td></tr>\n",
       "\t<tr><td>ElectroTab</td><td>1</td><td>497.92</td></tr>\n",
       "\t<tr><td>TechPad   </td><td>1</td><td>580.83</td></tr>\n",
       "</tbody>\n",
       "</table>\n"
      ],
      "text/latex": [
       "A data.frame: 4 × 3\n",
       "\\begin{tabular}{lll}\n",
       " Group.1 & Group.2 & x\\\\\n",
       " <chr> & <int> & <dbl>\\\\\n",
       "\\hline\n",
       "\t ElectroTab & 0 & 506.25\\\\\n",
       "\t TechPad    & 0 & 505.42\\\\\n",
       "\t ElectroTab & 1 & 497.92\\\\\n",
       "\t TechPad    & 1 & 580.83\\\\\n",
       "\\end{tabular}\n"
      ],
      "text/markdown": [
       "\n",
       "A data.frame: 4 × 3\n",
       "\n",
       "| Group.1 &lt;chr&gt; | Group.2 &lt;int&gt; | x &lt;dbl&gt; |\n",
       "|---|---|---|\n",
       "| ElectroTab | 0 | 506.25 |\n",
       "| TechPad    | 0 | 505.42 |\n",
       "| ElectroTab | 1 | 497.92 |\n",
       "| TechPad    | 1 | 580.83 |\n",
       "\n"
      ],
      "text/plain": [
       "  Group.1    Group.2 x     \n",
       "1 ElectroTab 0       506.25\n",
       "2 TechPad    0       505.42\n",
       "3 ElectroTab 1       497.92\n",
       "4 TechPad    1       580.83"
      ]
     },
     "metadata": {},
     "output_type": "display_data"
    }
   ],
   "source": [
    "# SOLUTION BEGINS HERE\n",
    "\n",
    "aggregate(x=product_sales$sales_volume,\n",
    "                    by=list(product_sales$product, product_sales$post_update),\n",
    "                    FUN=function(x) round(mean(x), 2))\n",
    "\n",
    "# SOLUTION ENDS HERE"
   ]
  },
  {
   "cell_type": "markdown",
   "metadata": {},
   "source": [
    "The table above shows the mean for the treatment and control groups in column x, rounded to two decimal places."
   ]
  },
  {
   "cell_type": "markdown",
   "metadata": {
    "deletable": false,
    "editable": false,
    "nbgrader": {
     "grade": false,
     "locked": true,
     "solution": false
    }
   },
   "source": [
    "### C. Assuming 'TechPad' represents the control group and 'ElectroTab' represents the treatment group, and using the averages calculated in part B, estimate the value of the Difference-in-Differences. Round your answer to two decimal places. (4 Points)"
   ]
  },
  {
   "cell_type": "code",
   "execution_count": 6,
   "metadata": {},
   "outputs": [
    {
     "data": {
      "text/html": [
       "-83.75"
      ],
      "text/latex": [
       "-83.75"
      ],
      "text/markdown": [
       "-83.75"
      ],
      "text/plain": [
       "[1] -83.75"
      ]
     },
     "metadata": {},
     "output_type": "display_data"
    }
   ],
   "source": [
    "# SOLUTION BEGINS HERE\n",
    "round((497.9167-506.2500)-(580.8333-505.4167),2)\n",
    "\n",
    "# SOLUTION ENDS HERE"
   ]
  },
  {
   "cell_type": "markdown",
   "metadata": {},
   "source": [
    "DiD = -83.75"
   ]
  },
  {
   "cell_type": "markdown",
   "metadata": {
    "deletable": false,
    "editable": false,
    "nbgrader": {
     "grade": false,
     "locked": true,
     "solution": false
    }
   },
   "source": [
    "### D.  Estimate the Difference-in-Differences (DID or DiD) using a linear regression model, and interpret the DID in the context of this problem. Round your answer to two decimal places.  (6 Points)\n",
    "\n",
    "Hint: check with your answer from Part C, the two methods should reach the same DID."
   ]
  },
  {
   "cell_type": "code",
   "execution_count": 7,
   "metadata": {},
   "outputs": [
    {
     "data": {
      "text/plain": [
       "\n",
       "Call:\n",
       "lm(formula = sales_volume ~ post_update + treated + post_update:treated, \n",
       "    data = product_sales)\n",
       "\n",
       "Residuals:\n",
       "    Min      1Q  Median      3Q     Max \n",
       "-32.917  -5.833  -0.417   8.750  19.167 \n",
       "\n",
       "Coefficients:\n",
       "                    Estimate Std. Error t value Pr(>|t|)    \n",
       "(Intercept)         505.4167     3.3410 151.276  < 2e-16 ***\n",
       "post_update          75.4167     4.7249  15.961  < 2e-16 ***\n",
       "treated               0.8333     4.7249   0.176    0.861    \n",
       "post_update:treated -83.7500     6.6820 -12.534 4.07e-16 ***\n",
       "---\n",
       "Signif. codes:  0 ‘***’ 0.001 ‘**’ 0.01 ‘*’ 0.05 ‘.’ 0.1 ‘ ’ 1\n",
       "\n",
       "Residual standard error: 11.57 on 44 degrees of freedom\n",
       "Multiple R-squared:  0.9028,\tAdjusted R-squared:  0.8962 \n",
       "F-statistic: 136.3 on 3 and 44 DF,  p-value: < 2.2e-16\n"
      ]
     },
     "metadata": {},
     "output_type": "display_data"
    }
   ],
   "source": [
    "# SOLUTION BEGINS HERE\n",
    "\n",
    "product_sales$treated <- ifelse(product_sales$product == \"ElectroTab\", 1, 0)\n",
    "\n",
    "model <- lm(sales_volume ~ post_update + treated + post_update:treated, data = product_sales)\n",
    "\n",
    "# Display the summary of the regression\n",
    "summary(model)\n",
    "\n",
    "# SOLUTION ENDS HERE"
   ]
  },
  {
   "cell_type": "markdown",
   "metadata": {},
   "source": [
    "Rounding to two decimal places, the Difference-in-Differences estimate is:\n",
    "\n",
    "-83.75\n",
    "\n",
    "So the DiD estimate is -83.75, when rounding to two decimal places. This represents the estimated causal effect of the product update on ElectroTab's sales volume relative to the control product TechPad. The negative value indicates the update decreased ElectroTab's sales by about 83.75 units on average compared to TechPad."
   ]
  },
  {
   "cell_type": "markdown",
   "metadata": {
    "deletable": false,
    "editable": false,
    "nbgrader": {
     "grade": false,
     "locked": true,
     "solution": false
    }
   },
   "source": [
    "## Q2.  (25 Points Total)\n",
    "\n",
    "**For the following questions, use the stock datasets below.**\n",
    "\n",
    "**(Please note, loading essential libraries like \"PerformanceAnalytics\" might take a few minutes)**"
   ]
  },
  {
   "cell_type": "markdown",
   "metadata": {
    "deletable": false,
    "editable": false,
    "nbgrader": {
     "grade": false,
     "locked": true,
     "solution": false
    }
   },
   "source": [
    "#### **stock_aapl.csv, stock_gm.csv, stock_tsla.csv and stock_xom.csv have the following columns:**   \n",
    "\n",
    "- Date: Month end date\n",
    "- Close: closing price (has already been adjusted for stock split) \n",
    "- Dividends: dividend in \\$ to share holders. Keep in mind not every company gave dividends in sample period. \n",
    "\n",
    "#### **market_gspc.csv**\n",
    " - This represents market return. \n",
    " - Date: Month end date\n",
    " - return_market: simple return for the month"
   ]
  },
  {
   "cell_type": "code",
   "execution_count": 8,
   "metadata": {
    "collapsed": true,
    "deletable": false,
    "editable": false,
    "nbgrader": {
     "grade": false,
     "locked": true,
     "solution": false
    }
   },
   "outputs": [],
   "source": [
    "# Read data files\n",
    "ticker_aapl <- read.csv(\"../resource/asnlib/publicdata/stock_aapl.csv\", header = TRUE)\n",
    "ticker_gm <- read.csv(\"../resource/asnlib/publicdata/stock_gm.csv\", header = TRUE)\n",
    "ticker_tsla <- read.csv(\"../resource/asnlib/publicdata/stock_tsla.csv\", header = TRUE)\n",
    "ticker_xom <- read.csv(\"../resource/asnlib/publicdata/stock_xom.csv\", header = TRUE)\n",
    "ticker_gspc <- read.csv(\"../resource/asnlib/publicdata/market_gspc.csv\", header = TRUE)"
   ]
  },
  {
   "cell_type": "code",
   "execution_count": 9,
   "metadata": {},
   "outputs": [
    {
     "name": "stderr",
     "output_type": "stream",
     "text": [
      "Loading required package: data.table\n",
      "\n",
      "also installing the dependencies ‘textshaping’, ‘ragg’\n",
      "\n",
      "\n"
     ]
    }
   ],
   "source": [
    "# Install and load necessary libraries \n",
    "# After the initial installation, you may comment this block out the second time, and simply load the library without reinstalling it.\n",
    "# Please note, loading essential libraries like PerformanceAnalytics might take a few minutes\n",
    "\n",
    "if (!require(data.table)) install.packages(\"data.table\", lib.loc=\"../work/\")\n",
    "library(data.table, lib.loc = \"../work/\")\n",
    "\n",
    "suppressWarnings({\n",
    "install.packages(\"PerformanceAnalytics\", lib=\"../work/\")\n",
    "install.packages(\"xts\", lib=\"../work/\")\n",
    "install.packages(\"lubridate\", lib=\"../work/\")\n",
    "install.packages(\"tidyverse\", lib=\"../work/\")\n",
    "install.packages(\"data.table\", lib=\"../work/\")})"
   ]
  },
  {
   "cell_type": "code",
   "execution_count": 10,
   "metadata": {
    "deletable": false,
    "editable": false,
    "nbgrader": {
     "grade": false,
     "locked": true,
     "solution": false
    }
   },
   "outputs": [
    {
     "name": "stderr",
     "output_type": "stream",
     "text": [
      "Loading required package: xts\n",
      "\n",
      "Loading required package: zoo\n",
      "\n",
      "\n",
      "Attaching package: ‘zoo’\n",
      "\n",
      "\n",
      "The following objects are masked from ‘package:base’:\n",
      "\n",
      "    as.Date, as.Date.numeric\n",
      "\n",
      "\n",
      "\n",
      "Attaching package: ‘xts’\n",
      "\n",
      "\n",
      "The following objects are masked from ‘package:data.table’:\n",
      "\n",
      "    first, last\n",
      "\n",
      "\n",
      "\n",
      "Attaching package: ‘PerformanceAnalytics’\n",
      "\n",
      "\n",
      "The following object is masked from ‘package:graphics’:\n",
      "\n",
      "    legend\n",
      "\n",
      "\n",
      "\n",
      "Attaching package: ‘lubridate’\n",
      "\n",
      "\n",
      "The following objects are masked from ‘package:data.table’:\n",
      "\n",
      "    hour, isoweek, mday, minute, month, quarter, second, wday, week,\n",
      "    yday, year\n",
      "\n",
      "\n",
      "The following objects are masked from ‘package:base’:\n",
      "\n",
      "    date, intersect, setdiff, union\n",
      "\n",
      "\n",
      "── \u001b[1mAttaching core tidyverse packages\u001b[22m ──────────────────────── tidyverse 2.0.0 ──\n",
      "\u001b[32m✔\u001b[39m \u001b[34mdplyr  \u001b[39m 1.0.9     \u001b[32m✔\u001b[39m \u001b[34mreadr  \u001b[39m 2.1.2\n",
      "\u001b[32m✔\u001b[39m \u001b[34mforcats\u001b[39m 0.5.1     \u001b[32m✔\u001b[39m \u001b[34mstringr\u001b[39m 1.4.0\n",
      "\u001b[32m✔\u001b[39m \u001b[34mggplot2\u001b[39m 3.3.6     \u001b[32m✔\u001b[39m \u001b[34mtibble \u001b[39m 3.1.7\n",
      "\u001b[32m✔\u001b[39m \u001b[34mpurrr  \u001b[39m 0.3.4     \u001b[32m✔\u001b[39m \u001b[34mtidyr  \u001b[39m 1.2.0\n",
      "── \u001b[1mConflicts\u001b[22m ────────────────────────────────────────── tidyverse_conflicts() ──\n",
      "\u001b[31m✖\u001b[39m \u001b[34mdplyr\u001b[39m::\u001b[32mbetween()\u001b[39m     masks \u001b[34mdata.table\u001b[39m::between()\n",
      "\u001b[31m✖\u001b[39m \u001b[34mdplyr\u001b[39m::\u001b[32mfilter()\u001b[39m      masks \u001b[34mstats\u001b[39m::filter()\n",
      "\u001b[31m✖\u001b[39m \u001b[34mdplyr\u001b[39m::\u001b[32mfirst()\u001b[39m       masks \u001b[34mxts\u001b[39m::first(), \u001b[34mdata.table\u001b[39m::first()\n",
      "\u001b[31m✖\u001b[39m \u001b[34mlubridate\u001b[39m::\u001b[32mhour()\u001b[39m    masks \u001b[34mdata.table\u001b[39m::hour()\n",
      "\u001b[31m✖\u001b[39m \u001b[34mlubridate\u001b[39m::\u001b[32misoweek()\u001b[39m masks \u001b[34mdata.table\u001b[39m::isoweek()\n",
      "\u001b[31m✖\u001b[39m \u001b[34mdplyr\u001b[39m::\u001b[32mlag()\u001b[39m         masks \u001b[34mstats\u001b[39m::lag()\n",
      "\u001b[31m✖\u001b[39m \u001b[34mdplyr\u001b[39m::\u001b[32mlast()\u001b[39m        masks \u001b[34mxts\u001b[39m::last(), \u001b[34mdata.table\u001b[39m::last()\n",
      "\u001b[31m✖\u001b[39m \u001b[34mlubridate\u001b[39m::\u001b[32mmday()\u001b[39m    masks \u001b[34mdata.table\u001b[39m::mday()\n",
      "\u001b[31m✖\u001b[39m \u001b[34mlubridate\u001b[39m::\u001b[32mminute()\u001b[39m  masks \u001b[34mdata.table\u001b[39m::minute()\n",
      "\u001b[31m✖\u001b[39m \u001b[34mlubridate\u001b[39m::\u001b[32mmonth()\u001b[39m   masks \u001b[34mdata.table\u001b[39m::month()\n",
      "\u001b[31m✖\u001b[39m \u001b[34mlubridate\u001b[39m::\u001b[32mquarter()\u001b[39m masks \u001b[34mdata.table\u001b[39m::quarter()\n",
      "\u001b[31m✖\u001b[39m \u001b[34mlubridate\u001b[39m::\u001b[32msecond()\u001b[39m  masks \u001b[34mdata.table\u001b[39m::second()\n",
      "\u001b[31m✖\u001b[39m \u001b[34mpurrr\u001b[39m::\u001b[32mtranspose()\u001b[39m   masks \u001b[34mdata.table\u001b[39m::transpose()\n",
      "\u001b[31m✖\u001b[39m \u001b[34mlubridate\u001b[39m::\u001b[32mwday()\u001b[39m    masks \u001b[34mdata.table\u001b[39m::wday()\n",
      "\u001b[31m✖\u001b[39m \u001b[34mlubridate\u001b[39m::\u001b[32mweek()\u001b[39m    masks \u001b[34mdata.table\u001b[39m::week()\n",
      "\u001b[31m✖\u001b[39m \u001b[34mlubridate\u001b[39m::\u001b[32myday()\u001b[39m    masks \u001b[34mdata.table\u001b[39m::yday()\n",
      "\u001b[31m✖\u001b[39m \u001b[34mlubridate\u001b[39m::\u001b[32myear()\u001b[39m    masks \u001b[34mdata.table\u001b[39m::year()\n",
      "\u001b[36mℹ\u001b[39m Use the [conflicted package](http://conflicted.r-lib.org/) to force all conflicts to become errors\n"
     ]
    }
   ],
   "source": [
    "suppressWarnings({\n",
    "library(PerformanceAnalytics, lib.loc=\"../work/\")\n",
    "library(xts, lib.loc=\"../work/\")\n",
    "library(lubridate, lib.loc=\"../work/\")\n",
    "library(tidyverse, lib.loc=\"../work/\")\n",
    "library(data.table, lib.loc=\"../work/\")})\n"
   ]
  },
  {
   "cell_type": "markdown",
   "metadata": {
    "deletable": false,
    "editable": false,
    "nbgrader": {
     "grade": false,
     "locked": true,
     "solution": false
    }
   },
   "source": [
    "### A. Please calculate simple returns for AAPL and GM stocks for all months of 2015, 2016 and 2017. For both stocks, report the month and year in which they gave maximum simple return. For both stocks, also report the month and year in which they gave minimum simple return. In case of a tie, report the earliest month. (6 points)\n",
    "\n",
    "** Do not forget to remove NA values as necessary. shift function may help in calculating simple return but you are free to use your method/function in R. Here is a quick reference:  (https://www.rdocumentation.org/packages/data.table/versions/1.11.4/topics/shift).**  \n"
   ]
  },
  {
   "cell_type": "code",
   "execution_count": 11,
   "metadata": {},
   "outputs": [
    {
     "name": "stdout",
     "output_type": "stream",
     "text": [
      "         Date    Close Dividends\n",
      "1  2014-12-31 27.59377      0.00\n",
      "2  2015-01-30 25.78369      0.00\n",
      "3  2015-02-27 29.49080      0.00\n",
      "4  2015-03-31 29.88433      0.30\n",
      "5  2015-04-30 27.93985      0.00\n",
      "6  2015-05-29 28.66505      0.00\n",
      "7  2015-06-30 26.83628      0.36\n",
      "8  2015-07-31 25.37087      0.00\n",
      "9  2015-08-31 23.70417      0.00\n",
      "10 2015-09-30 24.46856      0.36\n",
      "11 2015-10-30 28.45428      0.00\n",
      "12 2015-11-30 29.50572      0.00\n",
      "13 2015-12-31 28.01267      0.36\n",
      "14 2016-01-29 24.41328      0.00\n",
      "15 2016-02-29 24.24855      0.00\n",
      "16 2016-03-31 26.21230      0.38\n",
      "17 2016-04-29 26.52087      0.00\n",
      "18 2016-05-31 26.08720      0.00\n",
      "19 2016-06-30 23.90237      0.38\n",
      "20 2016-07-29 26.63890      0.00\n",
      "21 2016-08-31 26.95985      0.00\n",
      "22 2016-09-30 27.15441      0.38\n",
      "23 2016-10-31 27.00911      0.00\n",
      "24 2016-11-30 29.51343      0.00\n",
      "25 2016-12-30 30.10143      0.38\n",
      "26 2017-01-31 31.63069      0.00\n",
      "27 2017-02-28 31.82941      0.00\n",
      "28 2017-03-31 30.86328      0.38\n",
      "29 2017-04-28 30.23484      0.00\n",
      "30 2017-05-31 29.61513      0.00\n",
      "31 2017-06-30 30.82821      0.38\n",
      "32 2017-07-31 31.75491      0.00\n",
      "33 2017-08-31 32.24915      0.00\n",
      "34 2017-09-29 36.00140      0.38\n",
      "35 2017-10-31 38.31946      0.00\n",
      "36 2017-11-30 38.41754      0.00\n",
      "37 2017-12-29 36.87771      0.38\n"
     ]
    }
   ],
   "source": [
    "print(ticker_gm)"
   ]
  },
  {
   "cell_type": "code",
   "execution_count": 12,
   "metadata": {},
   "outputs": [
    {
     "data": {
      "text/html": [
       "<table>\n",
       "<caption>A data.frame: 6 × 4</caption>\n",
       "<thead>\n",
       "\t<tr><th></th><th scope=col>Date</th><th scope=col>Close</th><th scope=col>Dividends</th><th scope=col>monthly_returns</th></tr>\n",
       "\t<tr><th></th><th scope=col>&lt;chr&gt;</th><th scope=col>&lt;dbl&gt;</th><th scope=col>&lt;dbl&gt;</th><th scope=col>&lt;dbl&gt;</th></tr>\n",
       "</thead>\n",
       "<tbody>\n",
       "\t<tr><th scope=row>1</th><td>2014-12-31</td><td>24.73397</td><td>0.0000</td><td>          NA</td></tr>\n",
       "\t<tr><th scope=row>2</th><td>2015-01-30</td><td>26.25323</td><td>0.0000</td><td> 0.061424204</td></tr>\n",
       "\t<tr><th scope=row>3</th><td>2015-02-27</td><td>28.89894</td><td>0.1175</td><td> 0.105252332</td></tr>\n",
       "\t<tr><th scope=row>4</th><td>2015-03-31</td><td>27.99233</td><td>0.0000</td><td>-0.031371750</td></tr>\n",
       "\t<tr><th scope=row>5</th><td>2015-04-30</td><td>28.15431</td><td>0.0000</td><td> 0.005786436</td></tr>\n",
       "\t<tr><th scope=row>6</th><td>2015-05-29</td><td>29.43080</td><td>0.1300</td><td> 0.049956445</td></tr>\n",
       "</tbody>\n",
       "</table>\n"
      ],
      "text/latex": [
       "A data.frame: 6 × 4\n",
       "\\begin{tabular}{r|llll}\n",
       "  & Date & Close & Dividends & monthly\\_returns\\\\\n",
       "  & <chr> & <dbl> & <dbl> & <dbl>\\\\\n",
       "\\hline\n",
       "\t1 & 2014-12-31 & 24.73397 & 0.0000 &           NA\\\\\n",
       "\t2 & 2015-01-30 & 26.25323 & 0.0000 &  0.061424204\\\\\n",
       "\t3 & 2015-02-27 & 28.89894 & 0.1175 &  0.105252332\\\\\n",
       "\t4 & 2015-03-31 & 27.99233 & 0.0000 & -0.031371750\\\\\n",
       "\t5 & 2015-04-30 & 28.15431 & 0.0000 &  0.005786436\\\\\n",
       "\t6 & 2015-05-29 & 29.43080 & 0.1300 &  0.049956445\\\\\n",
       "\\end{tabular}\n"
      ],
      "text/markdown": [
       "\n",
       "A data.frame: 6 × 4\n",
       "\n",
       "| <!--/--> | Date &lt;chr&gt; | Close &lt;dbl&gt; | Dividends &lt;dbl&gt; | monthly_returns &lt;dbl&gt; |\n",
       "|---|---|---|---|---|\n",
       "| 1 | 2014-12-31 | 24.73397 | 0.0000 |           NA |\n",
       "| 2 | 2015-01-30 | 26.25323 | 0.0000 |  0.061424204 |\n",
       "| 3 | 2015-02-27 | 28.89894 | 0.1175 |  0.105252332 |\n",
       "| 4 | 2015-03-31 | 27.99233 | 0.0000 | -0.031371750 |\n",
       "| 5 | 2015-04-30 | 28.15431 | 0.0000 |  0.005786436 |\n",
       "| 6 | 2015-05-29 | 29.43080 | 0.1300 |  0.049956445 |\n",
       "\n"
      ],
      "text/plain": [
       "  Date       Close    Dividends monthly_returns\n",
       "1 2014-12-31 24.73397 0.0000              NA   \n",
       "2 2015-01-30 26.25323 0.0000     0.061424204   \n",
       "3 2015-02-27 28.89894 0.1175     0.105252332   \n",
       "4 2015-03-31 27.99233 0.0000    -0.031371750   \n",
       "5 2015-04-30 28.15431 0.0000     0.005786436   \n",
       "6 2015-05-29 29.43080 0.1300     0.049956445   "
      ]
     },
     "metadata": {},
     "output_type": "display_data"
    },
    {
     "name": "stdout",
     "output_type": "stream",
     "text": [
      "[1] \"Maximum Monthly Return for AAPL:\"\n",
      "   Year Month monthly_returns\n",
      "27 2017    02       0.1388183\n",
      "[1] \"Minimum Monthly Return for AAPL:\"\n",
      "   Year Month monthly_returns\n",
      "17 2016    04      -0.1399211\n"
     ]
    }
   ],
   "source": [
    "#Monthly returns for apple \n",
    "ticker_aapl <- mutate(ticker_aapl, monthly_returns = ((ticker_aapl$Close+ticker_aapl$Dividends)/lag(ticker_aapl$Close))-1)\n",
    "head(ticker_aapl)\n",
    "\n",
    "# Extract year and month\n",
    "# Convert 'Date' to Date object\n",
    "ticker_aapl$Date <- as.Date(ticker_aapl$Date)\n",
    "ticker_aapl$Year <- format(ticker_aapl$Date, \"%Y\")\n",
    "ticker_aapl$Month <- format(ticker_aapl$Date, \"%m\")\n",
    "\n",
    "# max and min\n",
    "max_return_AAPL <- ticker_aapl[which.max(ticker_aapl$monthly_returns), c(\"Year\", \"Month\", \"monthly_returns\")]\n",
    "min_return_AAPL <- ticker_aapl[which.min(ticker_aapl$monthly_returns), c(\"Year\", \"Month\", \"monthly_returns\")]\n",
    "\n",
    "#output the results\n",
    "print(\"Maximum Monthly Return for AAPL:\")\n",
    "print(max_return_AAPL)\n",
    "\n",
    "print(\"Minimum Monthly Return for AAPL:\")\n",
    "print(min_return_AAPL)"
   ]
  },
  {
   "cell_type": "code",
   "execution_count": 13,
   "metadata": {},
   "outputs": [
    {
     "ename": "ERROR",
     "evalue": "Error in head(stock_gm): object 'stock_gm' not found\n",
     "output_type": "error",
     "traceback": [
      "Error in head(stock_gm): object 'stock_gm' not found\nTraceback:\n",
      "1. head(stock_gm)"
     ]
    }
   ],
   "source": [
    "head(stock_gm)"
   ]
  },
  {
   "cell_type": "code",
   "execution_count": 14,
   "metadata": {},
   "outputs": [
    {
     "name": "stdout",
     "output_type": "stream",
     "text": [
      "[1] \"Maximum Monthly Return for GM:\"\n",
      "   Year Month monthly_returns\n",
      "11 2015    10       0.1628916\n",
      "[1] \"Minimum Monthly Return for GM:\"\n",
      "   Year Month monthly_returns\n",
      "14 2016    01      -0.1284915\n"
     ]
    },
    {
     "data": {
      "text/html": [
       "<table>\n",
       "<caption>A data.frame: 6 × 6</caption>\n",
       "<thead>\n",
       "\t<tr><th></th><th scope=col>Date</th><th scope=col>Close</th><th scope=col>Dividends</th><th scope=col>monthly_returns</th><th scope=col>Year</th><th scope=col>Month</th></tr>\n",
       "\t<tr><th></th><th scope=col>&lt;date&gt;</th><th scope=col>&lt;dbl&gt;</th><th scope=col>&lt;dbl&gt;</th><th scope=col>&lt;dbl&gt;</th><th scope=col>&lt;chr&gt;</th><th scope=col>&lt;chr&gt;</th></tr>\n",
       "</thead>\n",
       "<tbody>\n",
       "\t<tr><th scope=row>1</th><td>2014-12-31</td><td>27.59377</td><td>0.0</td><td>         NA</td><td>2014</td><td>12</td></tr>\n",
       "\t<tr><th scope=row>2</th><td>2015-01-30</td><td>25.78369</td><td>0.0</td><td>-0.06559747</td><td>2015</td><td>01</td></tr>\n",
       "\t<tr><th scope=row>3</th><td>2015-02-27</td><td>29.49080</td><td>0.0</td><td> 0.14377716</td><td>2015</td><td>02</td></tr>\n",
       "\t<tr><th scope=row>4</th><td>2015-03-31</td><td>29.88433</td><td>0.3</td><td> 0.02351708</td><td>2015</td><td>03</td></tr>\n",
       "\t<tr><th scope=row>5</th><td>2015-04-30</td><td>27.93985</td><td>0.0</td><td>-0.06506703</td><td>2015</td><td>04</td></tr>\n",
       "\t<tr><th scope=row>6</th><td>2015-05-29</td><td>28.66505</td><td>0.0</td><td> 0.02595572</td><td>2015</td><td>05</td></tr>\n",
       "</tbody>\n",
       "</table>\n"
      ],
      "text/latex": [
       "A data.frame: 6 × 6\n",
       "\\begin{tabular}{r|llllll}\n",
       "  & Date & Close & Dividends & monthly\\_returns & Year & Month\\\\\n",
       "  & <date> & <dbl> & <dbl> & <dbl> & <chr> & <chr>\\\\\n",
       "\\hline\n",
       "\t1 & 2014-12-31 & 27.59377 & 0.0 &          NA & 2014 & 12\\\\\n",
       "\t2 & 2015-01-30 & 25.78369 & 0.0 & -0.06559747 & 2015 & 01\\\\\n",
       "\t3 & 2015-02-27 & 29.49080 & 0.0 &  0.14377716 & 2015 & 02\\\\\n",
       "\t4 & 2015-03-31 & 29.88433 & 0.3 &  0.02351708 & 2015 & 03\\\\\n",
       "\t5 & 2015-04-30 & 27.93985 & 0.0 & -0.06506703 & 2015 & 04\\\\\n",
       "\t6 & 2015-05-29 & 28.66505 & 0.0 &  0.02595572 & 2015 & 05\\\\\n",
       "\\end{tabular}\n"
      ],
      "text/markdown": [
       "\n",
       "A data.frame: 6 × 6\n",
       "\n",
       "| <!--/--> | Date &lt;date&gt; | Close &lt;dbl&gt; | Dividends &lt;dbl&gt; | monthly_returns &lt;dbl&gt; | Year &lt;chr&gt; | Month &lt;chr&gt; |\n",
       "|---|---|---|---|---|---|---|\n",
       "| 1 | 2014-12-31 | 27.59377 | 0.0 |          NA | 2014 | 12 |\n",
       "| 2 | 2015-01-30 | 25.78369 | 0.0 | -0.06559747 | 2015 | 01 |\n",
       "| 3 | 2015-02-27 | 29.49080 | 0.0 |  0.14377716 | 2015 | 02 |\n",
       "| 4 | 2015-03-31 | 29.88433 | 0.3 |  0.02351708 | 2015 | 03 |\n",
       "| 5 | 2015-04-30 | 27.93985 | 0.0 | -0.06506703 | 2015 | 04 |\n",
       "| 6 | 2015-05-29 | 28.66505 | 0.0 |  0.02595572 | 2015 | 05 |\n",
       "\n"
      ],
      "text/plain": [
       "  Date       Close    Dividends monthly_returns Year Month\n",
       "1 2014-12-31 27.59377 0.0                NA     2014 12   \n",
       "2 2015-01-30 25.78369 0.0       -0.06559747     2015 01   \n",
       "3 2015-02-27 29.49080 0.0        0.14377716     2015 02   \n",
       "4 2015-03-31 29.88433 0.3        0.02351708     2015 03   \n",
       "5 2015-04-30 27.93985 0.0       -0.06506703     2015 04   \n",
       "6 2015-05-29 28.66505 0.0        0.02595572     2015 05   "
      ]
     },
     "metadata": {},
     "output_type": "display_data"
    }
   ],
   "source": [
    "#Monthly returns for GM\n",
    "ticker_gm <- mutate(ticker_gm, monthly_returns = ((ticker_gm$Close+ticker_gm$Dividends)/lag(ticker_gm$Close))-1)\n",
    "\n",
    "# Extract year and month\n",
    "# Convert 'Date' to Date object\n",
    "ticker_gm$Date <- as.Date(ticker_gm$Date)\n",
    "# Extract year and month\n",
    "ticker_gm$Year <- format(ticker_gm$Date, \"%Y\")\n",
    "ticker_gm$Month <- format(ticker_gm$Date, \"%m\")\n",
    "\n",
    "# Calculate maximum and minimum monthly returns for GM\n",
    "max_return_GM <- ticker_gm[which.max(ticker_gm$monthly_returns), c(\"Year\", \"Month\", \"monthly_returns\")]\n",
    "min_return_GM <- ticker_gm[which.min(ticker_gm$monthly_returns), c(\"Year\", \"Month\", \"monthly_returns\")]\n",
    "\n",
    "# Print results\n",
    "print(\"Maximum Monthly Return for GM:\")\n",
    "print(max_return_GM)\n",
    "\n",
    "print(\"Minimum Monthly Return for GM:\")\n",
    "print(min_return_GM)\n",
    "\n",
    "head(ticker_gm)"
   ]
  },
  {
   "cell_type": "markdown",
   "metadata": {
    "deletable": false,
    "editable": false,
    "nbgrader": {
     "grade": false,
     "locked": true,
     "solution": false
    }
   },
   "source": [
    "### For the following parts of the question, you will need to use your monthly simple return results from Part A for AAPL and GM. Also include stock_tsla.csv, stock_xom.csv, market_gspc.csv in the analysis.  \n",
    "\n",
    "**Note: you will need to calculate monthly simple return results for TSLA and XOM as you did for AAPL and GM in Q3A**\n",
    "\n",
    "### B. Based on std deviation, which stock is the least risky, and which stock is the most risky? (3 points)"
   ]
  },
  {
   "cell_type": "code",
   "execution_count": 15,
   "metadata": {
    "nbgrader": {
     "grade": false,
     "locked": false,
     "solution": false
    }
   },
   "outputs": [
    {
     "data": {
      "text/html": [
       "<table>\n",
       "<caption>A data.frame: 6 × 4</caption>\n",
       "<thead>\n",
       "\t<tr><th></th><th scope=col>Date</th><th scope=col>Close</th><th scope=col>Dividends</th><th scope=col>monthly_returns</th></tr>\n",
       "\t<tr><th></th><th scope=col>&lt;chr&gt;</th><th scope=col>&lt;dbl&gt;</th><th scope=col>&lt;int&gt;</th><th scope=col>&lt;dbl&gt;</th></tr>\n",
       "</thead>\n",
       "<tbody>\n",
       "\t<tr><th scope=row>1</th><td>2014-12-31</td><td>14.82733</td><td>0</td><td>          NA</td></tr>\n",
       "\t<tr><th scope=row>2</th><td>2015-01-30</td><td>13.57333</td><td>0</td><td>-0.084573579</td></tr>\n",
       "\t<tr><th scope=row>3</th><td>2015-02-27</td><td>13.55600</td><td>0</td><td>-0.001276991</td></tr>\n",
       "\t<tr><th scope=row>4</th><td>2015-03-31</td><td>12.58467</td><td>0</td><td>-0.071653332</td></tr>\n",
       "\t<tr><th scope=row>5</th><td>2015-04-30</td><td>15.07000</td><td>0</td><td> 0.197488931</td></tr>\n",
       "\t<tr><th scope=row>6</th><td>2015-05-29</td><td>16.72000</td><td>0</td><td> 0.109489028</td></tr>\n",
       "</tbody>\n",
       "</table>\n"
      ],
      "text/latex": [
       "A data.frame: 6 × 4\n",
       "\\begin{tabular}{r|llll}\n",
       "  & Date & Close & Dividends & monthly\\_returns\\\\\n",
       "  & <chr> & <dbl> & <int> & <dbl>\\\\\n",
       "\\hline\n",
       "\t1 & 2014-12-31 & 14.82733 & 0 &           NA\\\\\n",
       "\t2 & 2015-01-30 & 13.57333 & 0 & -0.084573579\\\\\n",
       "\t3 & 2015-02-27 & 13.55600 & 0 & -0.001276991\\\\\n",
       "\t4 & 2015-03-31 & 12.58467 & 0 & -0.071653332\\\\\n",
       "\t5 & 2015-04-30 & 15.07000 & 0 &  0.197488931\\\\\n",
       "\t6 & 2015-05-29 & 16.72000 & 0 &  0.109489028\\\\\n",
       "\\end{tabular}\n"
      ],
      "text/markdown": [
       "\n",
       "A data.frame: 6 × 4\n",
       "\n",
       "| <!--/--> | Date &lt;chr&gt; | Close &lt;dbl&gt; | Dividends &lt;int&gt; | monthly_returns &lt;dbl&gt; |\n",
       "|---|---|---|---|---|\n",
       "| 1 | 2014-12-31 | 14.82733 | 0 |           NA |\n",
       "| 2 | 2015-01-30 | 13.57333 | 0 | -0.084573579 |\n",
       "| 3 | 2015-02-27 | 13.55600 | 0 | -0.001276991 |\n",
       "| 4 | 2015-03-31 | 12.58467 | 0 | -0.071653332 |\n",
       "| 5 | 2015-04-30 | 15.07000 | 0 |  0.197488931 |\n",
       "| 6 | 2015-05-29 | 16.72000 | 0 |  0.109489028 |\n",
       "\n"
      ],
      "text/plain": [
       "  Date       Close    Dividends monthly_returns\n",
       "1 2014-12-31 14.82733 0                   NA   \n",
       "2 2015-01-30 13.57333 0         -0.084573579   \n",
       "3 2015-02-27 13.55600 0         -0.001276991   \n",
       "4 2015-03-31 12.58467 0         -0.071653332   \n",
       "5 2015-04-30 15.07000 0          0.197488931   \n",
       "6 2015-05-29 16.72000 0          0.109489028   "
      ]
     },
     "metadata": {},
     "output_type": "display_data"
    },
    {
     "data": {
      "text/html": [
       "<table>\n",
       "<caption>A data.frame: 6 × 4</caption>\n",
       "<thead>\n",
       "\t<tr><th></th><th scope=col>Date</th><th scope=col>Close</th><th scope=col>Dividends</th><th scope=col>monthly_returns</th></tr>\n",
       "\t<tr><th></th><th scope=col>&lt;chr&gt;</th><th scope=col>&lt;dbl&gt;</th><th scope=col>&lt;dbl&gt;</th><th scope=col>&lt;dbl&gt;</th></tr>\n",
       "</thead>\n",
       "<tbody>\n",
       "\t<tr><th scope=row>1</th><td>2014-12-31</td><td>62.40197</td><td>0.00</td><td>          NA</td></tr>\n",
       "\t<tr><th scope=row>2</th><td>2015-01-30</td><td>59.00680</td><td>0.00</td><td>-0.054408031</td></tr>\n",
       "\t<tr><th scope=row>3</th><td>2015-02-27</td><td>60.21262</td><td>0.69</td><td> 0.032128807</td></tr>\n",
       "\t<tr><th scope=row>4</th><td>2015-03-31</td><td>57.80519</td><td>0.00</td><td>-0.039982192</td></tr>\n",
       "\t<tr><th scope=row>5</th><td>2015-04-30</td><td>59.41694</td><td>0.00</td><td> 0.027882539</td></tr>\n",
       "\t<tr><th scope=row>6</th><td>2015-05-29</td><td>58.42044</td><td>0.73</td><td>-0.004485349</td></tr>\n",
       "</tbody>\n",
       "</table>\n"
      ],
      "text/latex": [
       "A data.frame: 6 × 4\n",
       "\\begin{tabular}{r|llll}\n",
       "  & Date & Close & Dividends & monthly\\_returns\\\\\n",
       "  & <chr> & <dbl> & <dbl> & <dbl>\\\\\n",
       "\\hline\n",
       "\t1 & 2014-12-31 & 62.40197 & 0.00 &           NA\\\\\n",
       "\t2 & 2015-01-30 & 59.00680 & 0.00 & -0.054408031\\\\\n",
       "\t3 & 2015-02-27 & 60.21262 & 0.69 &  0.032128807\\\\\n",
       "\t4 & 2015-03-31 & 57.80519 & 0.00 & -0.039982192\\\\\n",
       "\t5 & 2015-04-30 & 59.41694 & 0.00 &  0.027882539\\\\\n",
       "\t6 & 2015-05-29 & 58.42044 & 0.73 & -0.004485349\\\\\n",
       "\\end{tabular}\n"
      ],
      "text/markdown": [
       "\n",
       "A data.frame: 6 × 4\n",
       "\n",
       "| <!--/--> | Date &lt;chr&gt; | Close &lt;dbl&gt; | Dividends &lt;dbl&gt; | monthly_returns &lt;dbl&gt; |\n",
       "|---|---|---|---|---|\n",
       "| 1 | 2014-12-31 | 62.40197 | 0.00 |           NA |\n",
       "| 2 | 2015-01-30 | 59.00680 | 0.00 | -0.054408031 |\n",
       "| 3 | 2015-02-27 | 60.21262 | 0.69 |  0.032128807 |\n",
       "| 4 | 2015-03-31 | 57.80519 | 0.00 | -0.039982192 |\n",
       "| 5 | 2015-04-30 | 59.41694 | 0.00 |  0.027882539 |\n",
       "| 6 | 2015-05-29 | 58.42044 | 0.73 | -0.004485349 |\n",
       "\n"
      ],
      "text/plain": [
       "  Date       Close    Dividends monthly_returns\n",
       "1 2014-12-31 62.40197 0.00                NA   \n",
       "2 2015-01-30 59.00680 0.00      -0.054408031   \n",
       "3 2015-02-27 60.21262 0.69       0.032128807   \n",
       "4 2015-03-31 57.80519 0.00      -0.039982192   \n",
       "5 2015-04-30 59.41694 0.00       0.027882539   \n",
       "6 2015-05-29 58.42044 0.73      -0.004485349   "
      ]
     },
     "metadata": {},
     "output_type": "display_data"
    }
   ],
   "source": [
    "# SOLUTION BEGINS HERE\n",
    "ticker_tsla <- mutate(ticker_tsla, monthly_returns = ((ticker_tsla$Close+ticker_tsla$Dividends)/lag(ticker_tsla$Close))-1)\n",
    "head(ticker_tsla)\n",
    "ticker_xom <- mutate(ticker_xom, monthly_returns = ((ticker_xom$Close+ticker_xom$Dividends)/lag(ticker_xom$Close))-1)\n",
    "head(ticker_xom)\n",
    "\n",
    "# SOLUTION ENDS HERE"
   ]
  },
  {
   "cell_type": "code",
   "execution_count": 16,
   "metadata": {},
   "outputs": [
    {
     "name": "stdout",
     "output_type": "stream",
     "text": [
      "[1] \"Standard Deviation of Monthly Returns for AAPL: 6.73\"\n",
      "[1] \"Standard Deviation of Monthly Returns for GM: 6.51\"\n",
      "[1] \"Standard Deviation of Monthly Returns for TSLA: 9.85\"\n",
      "[1] \"Standard Deviation of Monthly Returns for XOM: 4.08\"\n",
      "[1] \"Standard Deviation of Monthly Returns for GSPC: 2.9\"\n"
     ]
    }
   ],
   "source": [
    "# Calculate standard deviation of monthly returns excluding NA values\n",
    "std_dev_aapl <- sd(ticker_aapl$monthly_returns, na.rm = TRUE)\n",
    "\n",
    "# Print the result\n",
    "print(paste(\"Standard Deviation of Monthly Returns for AAPL:\", round(std_dev_aapl*100, 2)))\n",
    "\n",
    "\n",
    "std_dev_gm <- sd(ticker_gm$monthly_returns, na.rm = TRUE)\n",
    "\n",
    "print(paste(\"Standard Deviation of Monthly Returns for GM:\", round(std_dev_gm*100, 2)))\n",
    "\n",
    "\n",
    "std_dev_tsla <- sd(ticker_tsla$monthly_returns, na.rm = TRUE)\n",
    "\n",
    "\n",
    "print(paste(\"Standard Deviation of Monthly Returns for TSLA:\", round(std_dev_tsla*100, 2)))\n",
    "\n",
    "\n",
    "std_dev_xom <- sd(ticker_xom$monthly_returns, na.rm = TRUE)\n",
    "\n",
    "\n",
    "print(paste(\"Standard Deviation of Monthly Returns for XOM:\", round(std_dev_xom*100, 2)))\n",
    "\n",
    "\n",
    "std_dev_gspc <- sd(ticker_gspc$return_market, na.rm = TRUE)\n",
    "\n",
    "\n",
    "print(paste(\"Standard Deviation of Monthly Returns for GSPC:\", round(std_dev_gspc*100, 2)))"
   ]
  },
  {
   "cell_type": "markdown",
   "metadata": {},
   "source": [
    "The stock that is most risky is Tesla (9.85) and since we are including the market in our analysis, the stock that is least risky is GSPC (2.9). "
   ]
  },
  {
   "cell_type": "markdown",
   "metadata": {
    "deletable": false,
    "editable": false,
    "nbgrader": {
     "grade": false,
     "locked": true,
     "solution": false
    }
   },
   "source": [
    "### C. Report average return over the sample period of each stock. Report return as percent not in decimals. Use arithmetic average.  Round your answers to two decimal places. Example X.XX% (2 points)"
   ]
  },
  {
   "cell_type": "code",
   "execution_count": 17,
   "metadata": {},
   "outputs": [
    {
     "name": "stdout",
     "output_type": "stream",
     "text": [
      "[1] \"Average Monthly Return for AAPL: 1.73 %\"\n",
      "[1] \"Average Monthly Return for GM: 1.44 %\"\n",
      "[1] \"Average Monthly Return for TSLA: 1.41 %\"\n",
      "[1] \"Average Monthly Return for XOM: 0.51 %\"\n",
      "[1] \"Average Monthly Return for GSPC: 0.77 %\"\n"
     ]
    }
   ],
   "source": [
    "# SOLUTION BEGINS HERE\n",
    "\n",
    "# Calculate average return over the sample period for AAPL\n",
    "avg_return_aapl <- mean(ticker_aapl$monthly_returns, na.rm = TRUE) * 100\n",
    "\n",
    "# Print the result\n",
    "print(paste(\"Average Monthly Return for AAPL:\", round(avg_return_aapl, 2), \"%\"))\n",
    "\n",
    "\n",
    "avg_return_gm <- mean(ticker_gm$monthly_returns, na.rm = TRUE) * 100\n",
    "\n",
    "\n",
    "print(paste(\"Average Monthly Return for GM:\", round(avg_return_gm, 2), \"%\"))\n",
    "\n",
    "\n",
    "avg_return_tsla <- mean(ticker_tsla$monthly_returns, na.rm = TRUE) * 100\n",
    "\n",
    "\n",
    "print(paste(\"Average Monthly Return for TSLA:\", round(avg_return_tsla, 2), \"%\"))\n",
    "\n",
    "\n",
    "avg_return_xom <- mean(ticker_xom$monthly_returns, na.rm = TRUE) * 100\n",
    "\n",
    "\n",
    "print(paste(\"Average Monthly Return for XOM:\", round(avg_return_xom, 2), \"%\"))\n",
    "\n",
    "\n",
    "avg_return_gspc <- mean(ticker_gspc$return_market, na.rm = TRUE) * 100\n",
    "\n",
    "\n",
    "print(paste(\"Average Monthly Return for GSPC:\", round(avg_return_gspc, 2), \"%\"))\n",
    "\n",
    "# SOLUTION ENDS HERE"
   ]
  },
  {
   "cell_type": "code",
   "execution_count": 18,
   "metadata": {},
   "outputs": [
    {
     "name": "stdout",
     "output_type": "stream",
     "text": [
      "         Date    Close Dividends monthly_returns Year Month\n",
      "1  2014-12-31 24.73397    0.0000              NA 2014    12\n",
      "2  2015-01-30 26.25323    0.0000    6.142420e-02 2015    01\n",
      "3  2015-02-27 28.89894    0.1175    1.052523e-01 2015    02\n",
      "4  2015-03-31 27.99233    0.0000   -3.137175e-02 2015    03\n",
      "5  2015-04-30 28.15431    0.0000    5.786436e-03 2015    04\n",
      "6  2015-05-29 29.43080    0.1300    4.995644e-02 2015    05\n",
      "7  2015-06-30 28.33516    0.0000   -3.722754e-02 2015    06\n",
      "8  2015-07-31 27.40218    0.0000   -3.292670e-02 2015    07\n",
      "9  2015-08-31 25.58826    0.1300   -6.145201e-02 2015    08\n",
      "10 2015-09-30 25.03002    0.0000   -2.181621e-02 2015    09\n",
      "11 2015-10-30 27.11774    0.0000    8.340867e-02 2015    10\n",
      "12 2015-11-30 26.96034    0.1300   -1.010413e-03 2015    11\n",
      "13 2015-12-31 23.98856    0.0000   -1.102280e-01 2015    12\n",
      "14 2016-01-29 22.18360    0.0000   -7.524247e-02 2016    01\n",
      "15 2016-02-29 22.15504    0.1300    4.572805e-03 2016    02\n",
      "16 2016-03-31 24.97339    0.0000    1.272105e-01 2016    03\n",
      "17 2016-04-29 21.47909    0.0000   -1.399211e-01 2016    04\n",
      "18 2016-05-31 23.02071    0.1425    7.840752e-02 2016    05\n",
      "19 2016-06-30 22.03865    0.0000   -4.265991e-02 2016    06\n",
      "20 2016-07-29 24.02351    0.0000    9.006283e-02 2016    07\n",
      "21 2016-08-31 24.59171    0.1425    2.958348e-02 2016    08\n",
      "22 2016-09-30 26.20258    0.0000    6.550429e-02 2016    09\n",
      "23 2016-10-31 26.31615    0.0000    4.334351e-03 2016    10\n",
      "24 2016-11-30 25.74769    0.1425   -1.618621e-02 2016    11\n",
      "25 2016-12-30 26.98243    0.0000    4.795542e-02 2016    12\n",
      "26 2017-01-31 28.27075    0.0000    4.774651e-02 2017    01\n",
      "27 2017-02-28 32.05274    0.1425    1.388183e-01 2017    02\n",
      "28 2017-03-31 33.61338    0.0000    4.868958e-02 2017    03\n",
      "29 2017-04-28 33.61105    0.0000   -6.934085e-05 2017    04\n",
      "30 2017-05-31 35.89011    0.1575    7.249285e-02 2017    05\n",
      "31 2017-06-30 33.83670    0.0000   -5.721370e-02 2017    06\n",
      "32 2017-07-31 34.94329    0.0000    3.270373e-02 2017    07\n",
      "33 2017-08-31 38.68221    0.1575    1.115070e-01 2017    08\n",
      "34 2017-09-29 36.35183    0.0000   -6.024432e-02 2017    09\n",
      "35 2017-10-31 39.87096    0.0000    9.680764e-02 2017    10\n",
      "36 2017-11-30 40.67946    0.1575    2.422812e-02 2017    11\n",
      "37 2017-12-29 40.05927    0.0000   -1.524568e-02 2017    12\n"
     ]
    }
   ],
   "source": [
    "print(ticker_aapl)"
   ]
  },
  {
   "cell_type": "markdown",
   "metadata": {
    "deletable": false,
    "editable": false,
    "nbgrader": {
     "grade": false,
     "locked": true,
     "solution": false
    }
   },
   "source": [
    "### D. Has TSLA stock underperformed/overperformed the market based on the monthly arithmetic average return? And by what percentage? Round your answers to two decimal places. Example X.XX%  (3 points)"
   ]
  },
  {
   "cell_type": "code",
   "execution_count": 19,
   "metadata": {},
   "outputs": [
    {
     "name": "stdout",
     "output_type": "stream",
     "text": [
      "[1] \"Percentage Difference between TSLA and GSPC: 0.64 %\"\n",
      "[1] \"TSLA stock overperformed the market based on the monthly arithmetic average return\"\n"
     ]
    }
   ],
   "source": [
    "# SOLUTION BEGINS HERE\n",
    "\n",
    "# Calculate the percentage difference\n",
    "percentage_difference = avg_return_tsla - avg_return_gspc\n",
    "print(paste(\"Percentage Difference between TSLA and GSPC:\", round(percentage_difference, 2), \"%\"))\n",
    "print(\"TSLA stock overperformed the market based on the monthly arithmetic average return\")\n",
    "\n",
    "# SOLUTION ENDS HERE"
   ]
  },
  {
   "cell_type": "markdown",
   "metadata": {
    "deletable": false,
    "editable": false,
    "nbgrader": {
     "grade": false,
     "locked": true,
     "solution": false
    }
   },
   "source": [
    "### E. What is the cumulative return of each stock in percent?  Round your answers to two decimal places. Example X.XX% (2 points)"
   ]
  },
  {
   "cell_type": "code",
   "execution_count": 20,
   "metadata": {},
   "outputs": [
    {
     "name": "stdout",
     "output_type": "stream",
     "text": [
      "[1] \"Cumulative Return for aapl: 71.7 %\"\n",
      "[1] \"Cumulative Return for gm: 55.67 %\"\n",
      "[1] \"Cumulative Return for TSLA: 39.99 %\"\n",
      "[1] \"Cumulative Return for XOM: 16.85 %\"\n",
      "[1] \"Cumulative Return for GSPC: 29.86 %\"\n"
     ]
    }
   ],
   "source": [
    "# SOLUTION BEGINS HERE\n",
    "# Remove rows with NA values in monthly_returns\n",
    "ticker_aapl <- ticker_aapl[complete.cases(ticker_aapl$monthly_returns), ]\n",
    "\n",
    "# Calculate cumulative return using Return.cumulative\n",
    "cumulative_return <- Return.cumulative(ticker_aapl$monthly_returns, geometric = TRUE)\n",
    "\n",
    "# Print the result\n",
    "print(paste(\"Cumulative Return for aapl:\", round(cumulative_return * 100, 2), \"%\"))\n",
    "\n",
    "\n",
    "ticker_gm <- ticker_gm[complete.cases(ticker_gm$monthly_returns), ]\n",
    "\n",
    "\n",
    "cumulative_return <- Return.cumulative(ticker_gm$monthly_returns, geometric = TRUE)\n",
    "\n",
    "\n",
    "print(paste(\"Cumulative Return for gm:\", round(cumulative_return * 100, 2), \"%\"))\n",
    "\n",
    "\n",
    "ticker_tsla <- ticker_tsla[complete.cases(ticker_tsla$monthly_returns), ]\n",
    "\n",
    "\n",
    "cumulative_return_tsla <- Return.cumulative(ticker_tsla$monthly_returns, geometric = TRUE)\n",
    "\n",
    "\n",
    "print(paste(\"Cumulative Return for TSLA:\", round(cumulative_return_tsla * 100, 2), \"%\"))\n",
    "\n",
    "\n",
    "\n",
    "ticker_xom <- ticker_xom[complete.cases(ticker_xom$monthly_returns), ]\n",
    "\n",
    "\n",
    "cumulative_return_xom <- Return.cumulative(ticker_xom$monthly_returns, geometric = TRUE)\n",
    "\n",
    "\n",
    "print(paste(\"Cumulative Return for XOM:\", round(cumulative_return_xom * 100, 2), \"%\"))\n",
    "\n",
    "\n",
    "ticker_gspc <- ticker_gspc[complete.cases(ticker_gspc$return_market), ]\n",
    "\n",
    "\n",
    "cumulative_return_gspc <- Return.cumulative(ticker_gspc$return_market, geometric = TRUE)\n",
    "\n",
    "\n",
    "print(paste(\"Cumulative Return for GSPC:\", round(cumulative_return_gspc * 100, 2), \"%\"))"
   ]
  },
  {
   "cell_type": "code",
   "execution_count": 21,
   "metadata": {},
   "outputs": [
    {
     "data": {
      "text/html": [
       "<table>\n",
       "<caption>A data.frame: 6 × 6</caption>\n",
       "<thead>\n",
       "\t<tr><th></th><th scope=col>Date</th><th scope=col>Close</th><th scope=col>Dividends</th><th scope=col>monthly_returns</th><th scope=col>Year</th><th scope=col>Month</th></tr>\n",
       "\t<tr><th></th><th scope=col>&lt;date&gt;</th><th scope=col>&lt;dbl&gt;</th><th scope=col>&lt;dbl&gt;</th><th scope=col>&lt;dbl&gt;</th><th scope=col>&lt;chr&gt;</th><th scope=col>&lt;chr&gt;</th></tr>\n",
       "</thead>\n",
       "<tbody>\n",
       "\t<tr><th scope=row>2</th><td>2015-01-30</td><td>25.78369</td><td>0.00</td><td>-0.06559747</td><td>2015</td><td>01</td></tr>\n",
       "\t<tr><th scope=row>3</th><td>2015-02-27</td><td>29.49080</td><td>0.00</td><td> 0.14377716</td><td>2015</td><td>02</td></tr>\n",
       "\t<tr><th scope=row>4</th><td>2015-03-31</td><td>29.88433</td><td>0.30</td><td> 0.02351708</td><td>2015</td><td>03</td></tr>\n",
       "\t<tr><th scope=row>5</th><td>2015-04-30</td><td>27.93985</td><td>0.00</td><td>-0.06506703</td><td>2015</td><td>04</td></tr>\n",
       "\t<tr><th scope=row>6</th><td>2015-05-29</td><td>28.66505</td><td>0.00</td><td> 0.02595572</td><td>2015</td><td>05</td></tr>\n",
       "\t<tr><th scope=row>7</th><td>2015-06-30</td><td>26.83628</td><td>0.36</td><td>-0.05123905</td><td>2015</td><td>06</td></tr>\n",
       "</tbody>\n",
       "</table>\n"
      ],
      "text/latex": [
       "A data.frame: 6 × 6\n",
       "\\begin{tabular}{r|llllll}\n",
       "  & Date & Close & Dividends & monthly\\_returns & Year & Month\\\\\n",
       "  & <date> & <dbl> & <dbl> & <dbl> & <chr> & <chr>\\\\\n",
       "\\hline\n",
       "\t2 & 2015-01-30 & 25.78369 & 0.00 & -0.06559747 & 2015 & 01\\\\\n",
       "\t3 & 2015-02-27 & 29.49080 & 0.00 &  0.14377716 & 2015 & 02\\\\\n",
       "\t4 & 2015-03-31 & 29.88433 & 0.30 &  0.02351708 & 2015 & 03\\\\\n",
       "\t5 & 2015-04-30 & 27.93985 & 0.00 & -0.06506703 & 2015 & 04\\\\\n",
       "\t6 & 2015-05-29 & 28.66505 & 0.00 &  0.02595572 & 2015 & 05\\\\\n",
       "\t7 & 2015-06-30 & 26.83628 & 0.36 & -0.05123905 & 2015 & 06\\\\\n",
       "\\end{tabular}\n"
      ],
      "text/markdown": [
       "\n",
       "A data.frame: 6 × 6\n",
       "\n",
       "| <!--/--> | Date &lt;date&gt; | Close &lt;dbl&gt; | Dividends &lt;dbl&gt; | monthly_returns &lt;dbl&gt; | Year &lt;chr&gt; | Month &lt;chr&gt; |\n",
       "|---|---|---|---|---|---|---|\n",
       "| 2 | 2015-01-30 | 25.78369 | 0.00 | -0.06559747 | 2015 | 01 |\n",
       "| 3 | 2015-02-27 | 29.49080 | 0.00 |  0.14377716 | 2015 | 02 |\n",
       "| 4 | 2015-03-31 | 29.88433 | 0.30 |  0.02351708 | 2015 | 03 |\n",
       "| 5 | 2015-04-30 | 27.93985 | 0.00 | -0.06506703 | 2015 | 04 |\n",
       "| 6 | 2015-05-29 | 28.66505 | 0.00 |  0.02595572 | 2015 | 05 |\n",
       "| 7 | 2015-06-30 | 26.83628 | 0.36 | -0.05123905 | 2015 | 06 |\n",
       "\n"
      ],
      "text/plain": [
       "  Date       Close    Dividends monthly_returns Year Month\n",
       "2 2015-01-30 25.78369 0.00      -0.06559747     2015 01   \n",
       "3 2015-02-27 29.49080 0.00       0.14377716     2015 02   \n",
       "4 2015-03-31 29.88433 0.30       0.02351708     2015 03   \n",
       "5 2015-04-30 27.93985 0.00      -0.06506703     2015 04   \n",
       "6 2015-05-29 28.66505 0.00       0.02595572     2015 05   \n",
       "7 2015-06-30 26.83628 0.36      -0.05123905     2015 06   "
      ]
     },
     "metadata": {},
     "output_type": "display_data"
    }
   ],
   "source": [
    "head(ticker_gm)"
   ]
  },
  {
   "cell_type": "markdown",
   "metadata": {
    "deletable": false,
    "editable": false,
    "nbgrader": {
     "grade": false,
     "locked": true,
     "solution": false
    }
   },
   "source": [
    "### F. Based on beta, which stock is most risky?  Comment on adjusted $R^2$ of this stock. Do you think this stock is related to overall market? (4 points)."
   ]
  },
  {
   "cell_type": "code",
   "execution_count": 22,
   "metadata": {},
   "outputs": [
    {
     "data": {
      "text/plain": [
       "\n",
       "Call:\n",
       "lm(formula = monthly_returns ~ return_market, data = merged_data_tsla)\n",
       "\n",
       "Residuals:\n",
       "     Min       1Q   Median       3Q      Max \n",
       "-0.22832 -0.06471 -0.01762  0.07848  0.18289 \n",
       "\n",
       "Coefficients:\n",
       "              Estimate Std. Error t value Pr(>|t|)\n",
       "(Intercept)   0.009247   0.016961   0.545    0.589\n",
       "return_market 0.628127   0.573313   1.096    0.281\n",
       "\n",
       "Residual standard error: 0.09827 on 34 degrees of freedom\n",
       "Multiple R-squared:  0.0341,\tAdjusted R-squared:  0.005692 \n",
       "F-statistic:   1.2 on 1 and 34 DF,  p-value: 0.281\n"
      ]
     },
     "metadata": {},
     "output_type": "display_data"
    }
   ],
   "source": [
    "tsla <- read.csv(\"../resource/asnlib/publicdata/stock_tsla.csv\", header = TRUE)\n",
    "gspc <- read.csv(\"../resource/asnlib/publicdata/market_gspc.csv\", header = TRUE)\n",
    "tsla <- mutate(tsla, monthly_returns = ((Close + Dividends) / lag(Close)) - 1)\n",
    "\n",
    "merged_data_tsla <- merge(tsla, gspc, by = \"Date\")\n",
    "if (any(is.na(merged_data_tsla))) {\n",
    "  merged_data_tsla <- na.omit(merged_data_tsla)\n",
    "}\n",
    "model_tsla <- lm(monthly_returns ~ return_market, data = merged_data_tsla)\n",
    "summary(model_tsla)\n"
   ]
  },
  {
   "cell_type": "code",
   "execution_count": 23,
   "metadata": {},
   "outputs": [
    {
     "data": {
      "text/plain": [
       "\n",
       "Call:\n",
       "lm(formula = monthly_returns ~ return_market, data = merged_data_xom)\n",
       "\n",
       "Residuals:\n",
       "      Min        1Q    Median        3Q       Max \n",
       "-0.082907 -0.022469  0.000654  0.018083  0.060685 \n",
       "\n",
       "Coefficients:\n",
       "                Estimate Std. Error t value Pr(>|t|)   \n",
       "(Intercept)   -0.0002962  0.0061841  -0.048  0.96208   \n",
       "return_market  0.7061930  0.2090344   3.378  0.00184 **\n",
       "---\n",
       "Signif. codes:  0 ‘***’ 0.001 ‘**’ 0.01 ‘*’ 0.05 ‘.’ 0.1 ‘ ’ 1\n",
       "\n",
       "Residual standard error: 0.03583 on 34 degrees of freedom\n",
       "Multiple R-squared:  0.2513,\tAdjusted R-squared:  0.2293 \n",
       "F-statistic: 11.41 on 1 and 34 DF,  p-value: 0.001842\n"
      ]
     },
     "metadata": {},
     "output_type": "display_data"
    }
   ],
   "source": [
    "xom <- read.csv(\"../resource/asnlib/publicdata/stock_xom.csv\", header = TRUE)\n",
    "xom <- mutate(xom, monthly_returns = ((Close + Dividends) / lag(Close)) - 1)\n",
    "\n",
    "merged_data_xom <- merge(xom, gspc, by = \"Date\")\n",
    "if (any(is.na(merged_data_xom))) {\n",
    "  merged_data_xom <- na.omit(merged_data_xom)\n",
    "}\n",
    "model_xom <- lm(monthly_returns ~ return_market, data = merged_data_xom)\n",
    "summary(model_xom)"
   ]
  },
  {
   "cell_type": "code",
   "execution_count": 24,
   "metadata": {},
   "outputs": [
    {
     "data": {
      "text/plain": [
       "\n",
       "Call:\n",
       "lm(formula = monthly_returns ~ return_market, data = merged_data_gm)\n",
       "\n",
       "Residuals:\n",
       "     Min       1Q   Median       3Q      Max \n",
       "-0.08873 -0.03809  0.00338  0.02828  0.09473 \n",
       "\n",
       "Coefficients:\n",
       "              Estimate Std. Error t value Pr(>|t|)    \n",
       "(Intercept)   0.001788   0.007805   0.229     0.82    \n",
       "return_market 1.637997   0.263820   6.209 4.62e-07 ***\n",
       "---\n",
       "Signif. codes:  0 ‘***’ 0.001 ‘**’ 0.01 ‘*’ 0.05 ‘.’ 0.1 ‘ ’ 1\n",
       "\n",
       "Residual standard error: 0.04522 on 34 degrees of freedom\n",
       "Multiple R-squared:  0.5313,\tAdjusted R-squared:  0.5176 \n",
       "F-statistic: 38.55 on 1 and 34 DF,  p-value: 4.62e-07\n"
      ]
     },
     "metadata": {},
     "output_type": "display_data"
    }
   ],
   "source": [
    "# Read data files\n",
    "gm <- read.csv(\"../resource/asnlib/publicdata/stock_gm.csv\", header = TRUE)\n",
    "gm <- mutate(gm, monthly_returns = ((Close + Dividends) / lag(Close)) - 1)\n",
    "\n",
    "merged_data_gm <- merge(gm, gspc, by = \"Date\")\n",
    "if (any(is.na(merged_data_gm))) {\n",
    "  merged_data_gm <- na.omit(merged_data_gm)\n",
    "}\n",
    "model_gm <- lm(monthly_returns ~ return_market, data = merged_data_gm)\n",
    "summary(model_gm)\n"
   ]
  },
  {
   "cell_type": "code",
   "execution_count": 25,
   "metadata": {},
   "outputs": [
    {
     "data": {
      "text/plain": [
       "\n",
       "Call:\n",
       "lm(formula = monthly_returns ~ return_market, data = merged_data_aapl)\n",
       "\n",
       "Residuals:\n",
       "     Min       1Q   Median       3Q      Max \n",
       "-0.15068 -0.02322  0.00430  0.03384  0.10359 \n",
       "\n",
       "Coefficients:\n",
       "              Estimate Std. Error t value Pr(>|t|)    \n",
       "(Intercept)   0.007202   0.009706   0.742 0.463178    \n",
       "return_market 1.316515   0.328070   4.013 0.000312 ***\n",
       "---\n",
       "Signif. codes:  0 ‘***’ 0.001 ‘**’ 0.01 ‘*’ 0.05 ‘.’ 0.1 ‘ ’ 1\n",
       "\n",
       "Residual standard error: 0.05623 on 34 degrees of freedom\n",
       "Multiple R-squared:  0.3214,\tAdjusted R-squared:  0.3014 \n",
       "F-statistic:  16.1 on 1 and 34 DF,  p-value: 0.000312\n"
      ]
     },
     "metadata": {},
     "output_type": "display_data"
    }
   ],
   "source": [
    "aapl <- read.csv(\"../resource/asnlib/publicdata/stock_aapl.csv\", header = TRUE)\n",
    "aapl <- mutate(aapl, monthly_returns = ((Close + Dividends) / lag(Close)) - 1)\n",
    "\n",
    "merged_data_aapl <- merge(aapl, gspc, by = \"Date\")\n",
    "if (any(is.na(merged_data_aapl))) {\n",
    "  merged_data_aapl <- na.omit(merged_data_aapl)\n",
    "}\n",
    "model_aapl <- lm(monthly_returns ~ return_market, data = merged_data_aapl)\n",
    "summary(model_aapl)"
   ]
  },
  {
   "cell_type": "markdown",
   "metadata": {},
   "source": [
    "GM represents the stock with the highest beta and is the most risky. The beta for GM is 1.637997. The adjusted R-squared is 0.5176. The adjusted R-squared is a measure of how well the independent variable (market returns) explains the variability in the dependent variable (stock returns). In this case, approximately ~52% of the variability in the stock's returns can be explained by changes in the market returns."
   ]
  },
  {
   "cell_type": "markdown",
   "metadata": {
    "deletable": false,
    "editable": false,
    "nbgrader": {
     "grade": false,
     "locked": true,
     "solution": false
    }
   },
   "source": [
    "### G.  Plot cumulative returns of all stocks in one graph. (3 points)"
   ]
  },
  {
   "cell_type": "code",
   "execution_count": 26,
   "metadata": {},
   "outputs": [
    {
     "data": {
      "image/png": "[encoded data removed]",
      "text/plain": [
       "plot without title"
      ]
     },
     "metadata": {
      "image/png": {
       "height": 420,
       "width": 420
      }
     },
     "output_type": "display_data"
    }
   ],
   "source": [
    "# Converting dates to standard YYYY-MM-DD format\n",
    "aapl$Date <- ymd(aapl$Date)\n",
    "gm$Date <- ymd(gm$Date)\n",
    "xom$Date <- ymd(xom$Date)\n",
    "tsla$Date <- ymd(tsla$Date)\n",
    "gspc$Date <- ymd(gspc$Date)\n",
    "\n",
    "# Sorting data by dates\n",
    "stock_aapl <- aapl[order(aapl$Date),]\n",
    "stock_gm <- gm[order(gm$Date),]\n",
    "stock_xom <- xom[order(xom$Date),]\n",
    "stock_tsla <- tsla[order(tsla$Date),]\n",
    "stock_gspc <- gspc[order(gspc$Date),]\n",
    "\n",
    "# Shift Close column data by 1 cell down\n",
    "stock_aapl$shifted_close = shift(stock_aapl$Close, n=1L, fill=NA, type=c(\"lag\"), give.names=FALSE)\n",
    "stock_gm$shifted_close = shift(stock_gm$Close, n=1L, fill=NA, type=c(\"lag\"), give.names=FALSE)\n",
    "stock_xom$shifted_close = shift(stock_xom$Close, n=1L, fill=NA, type=c(\"lag\"), give.names=FALSE)\n",
    "stock_tsla$shifted_close = shift(stock_tsla$Close, n=1L, fill=NA, type=c(\"lag\"), give.names=FALSE)\n",
    "stock_gspc$shifted_close = shift(stock_gspc$Close, n=1L, fill=NA, type=c(\"lag\"), give.names=FALSE)\n",
    "\n",
    "# Remove resulting NA in the first row\n",
    "stock_aapl <- stock_aapl %>% na.omit()\n",
    "stock_gm <- stock_gm %>% na.omit()\n",
    "stock_xom <- stock_xom %>% na.omit()\n",
    "stock_tsla <- stock_tsla %>% na.omit()\n",
    "stock_gspc <- stock_gspc %>% na.omit()\n",
    "\n",
    "# Calculate return\n",
    "stock_aapl <- stock_aapl %>% mutate(return_aapl = (Close + Dividends) / shifted_close - 1)\n",
    "stock_gm <- stock_gm %>% mutate(return_gm = (Close + Dividends) / shifted_close - 1)\n",
    "stock_xom <- stock_xom %>% mutate(return_xom = (Close + Dividends) / shifted_close - 1)\n",
    "stock_tsla <- stock_tsla %>% mutate(return_tsla = (Close + Dividends) / shifted_close - 1)\n",
    "stock_gspc <- stock_gspc %>% mutate(return_gspc = ticker_gspc$return_market)\n",
    "\n",
    "# Create xts objects\n",
    "aapl_xts <- xts(stock_aapl[,-1], order.by = stock_aapl[,1],)\n",
    "gm_xts <- xts(stock_gm[,-1], order.by = stock_gm[,1],)\n",
    "xom_xts <- xts(stock_xom[,-1], order.by = stock_xom[,1],)\n",
    "tsla_xts <- xts(stock_tsla[,-1], order.by = stock_tsla[,1],)\n",
    "gspc_xts <- xts(stock_gspc[,-1], order.by = stock_gspc[,1],)\n",
    "\n",
    "# Create data frame with return columns\n",
    "df_all <- data.frame(aapl_xts[,5], gm_xts[,5], xom_xts[,5], tsla_xts[,5], gspc_xts[,2])\n",
    "\n",
    "# Plot cumulative returns\n",
    "chart.CumReturns(df_all, wealth.index = FALSE, geometric = TRUE, legend.loc = \"topleft\")"
   ]
  },
  {
   "cell_type": "markdown",
   "metadata": {
    "deletable": false,
    "editable": false,
    "nbgrader": {
     "grade": false,
     "locked": true,
     "solution": false
    }
   },
   "source": [
    "### H. Based on top 3 drawdowns, how long was AAPL stock’s longest recovery time? (2 points)\n",
    "\n",
    "**Use table.Drawdown( ) function to find drawdowns for stocks. Refer to the documentation here. (https://www.rdocumentation.org/packages/PerformanceAnalytics/versions/2.0.4/topics/table.Drawdowns)**"
   ]
  },
  {
   "cell_type": "code",
   "execution_count": 27,
   "metadata": {},
   "outputs": [
    {
     "data": {
      "text/html": [
       "<table>\n",
       "<caption>A data.frame: 3 × 7</caption>\n",
       "<thead>\n",
       "\t<tr><th scope=col>From</th><th scope=col>Trough</th><th scope=col>To</th><th scope=col>Depth</th><th scope=col>Length</th><th scope=col>To Trough</th><th scope=col>Recovery</th></tr>\n",
       "\t<tr><th scope=col>&lt;date&gt;</th><th scope=col>&lt;date&gt;</th><th scope=col>&lt;date&gt;</th><th scope=col>&lt;dbl&gt;</th><th scope=col>&lt;dbl&gt;</th><th scope=col>&lt;dbl&gt;</th><th scope=col>&lt;dbl&gt;</th></tr>\n",
       "</thead>\n",
       "<tbody>\n",
       "\t<tr><td>2015-06-30</td><td>2016-04-29</td><td>2017-02-28</td><td>-0.2586</td><td>21</td><td>11</td><td>10</td></tr>\n",
       "\t<tr><td>2017-09-29</td><td>2017-09-29</td><td>2017-10-31</td><td>-0.0602</td><td> 2</td><td> 1</td><td> 1</td></tr>\n",
       "\t<tr><td>2017-06-30</td><td>2017-06-30</td><td>2017-08-31</td><td>-0.0572</td><td> 3</td><td> 1</td><td> 2</td></tr>\n",
       "</tbody>\n",
       "</table>\n"
      ],
      "text/latex": [
       "A data.frame: 3 × 7\n",
       "\\begin{tabular}{lllllll}\n",
       " From & Trough & To & Depth & Length & To Trough & Recovery\\\\\n",
       " <date> & <date> & <date> & <dbl> & <dbl> & <dbl> & <dbl>\\\\\n",
       "\\hline\n",
       "\t 2015-06-30 & 2016-04-29 & 2017-02-28 & -0.2586 & 21 & 11 & 10\\\\\n",
       "\t 2017-09-29 & 2017-09-29 & 2017-10-31 & -0.0602 &  2 &  1 &  1\\\\\n",
       "\t 2017-06-30 & 2017-06-30 & 2017-08-31 & -0.0572 &  3 &  1 &  2\\\\\n",
       "\\end{tabular}\n"
      ],
      "text/markdown": [
       "\n",
       "A data.frame: 3 × 7\n",
       "\n",
       "| From &lt;date&gt; | Trough &lt;date&gt; | To &lt;date&gt; | Depth &lt;dbl&gt; | Length &lt;dbl&gt; | To Trough &lt;dbl&gt; | Recovery &lt;dbl&gt; |\n",
       "|---|---|---|---|---|---|---|\n",
       "| 2015-06-30 | 2016-04-29 | 2017-02-28 | -0.2586 | 21 | 11 | 10 |\n",
       "| 2017-09-29 | 2017-09-29 | 2017-10-31 | -0.0602 |  2 |  1 |  1 |\n",
       "| 2017-06-30 | 2017-06-30 | 2017-08-31 | -0.0572 |  3 |  1 |  2 |\n",
       "\n"
      ],
      "text/plain": [
       "  From       Trough     To         Depth   Length To Trough Recovery\n",
       "1 2015-06-30 2016-04-29 2017-02-28 -0.2586 21     11        10      \n",
       "2 2017-09-29 2017-09-29 2017-10-31 -0.0602  2      1         1      \n",
       "3 2017-06-30 2017-06-30 2017-08-31 -0.0572  3      1         2      "
      ]
     },
     "metadata": {},
     "output_type": "display_data"
    }
   ],
   "source": [
    "# SOLUTION BEGINS HERE\n",
    "ticker_aapl_xts <- xts(ticker_aapl$monthly_returns, order.by = as.Date(ticker_aapl$Date))\n",
    "table.Drawdowns(ticker_aapl_xts,top = 3,digits = 4)\n",
    "# SOLUTION ENDS HERE"
   ]
  },
  {
   "cell_type": "markdown",
   "metadata": {},
   "source": [
    "The longest recovery time for AAPL stock, based on the top three drawdowns, occurred after the drawdown that started on June 30, 2015. The recovery period lasted for 10 months, extending from April 29, 2016, to February 28, 2017."
   ]
  },
  {
   "cell_type": "markdown",
   "metadata": {
    "deletable": false,
    "editable": false,
    "nbgrader": {
     "grade": false,
     "locked": true,
     "solution": false
    }
   },
   "source": [
    "## Q3. (15 Points Total)\n",
    "\n",
    "\n",
    "** ‘mtcars’ is a dataset within R that includes vehicle properties and data across 32 automobiles.\n",
    "Here is the data dictionary: **\n",
    " - mpg: Miles per gallon (Miles/(US) gallon).\n",
    " - cyl: Number of cylinders.\n",
    " - disp: Displacement in cubic inches (cu.in.).\n",
    " - hp: Gross horsepower.\n",
    " - drat: Rear axle ratio.\n",
    " - wt: Weight in 1000 pounds.\n",
    " - qsec: Time taken to cover a quarter-mile distance in seconds (1/4 mile time).\n",
    " - vs: Engine type, where 0 represents V-shaped and 1 represents straight.\n",
    " - am: Transmission type, where 0 represents automatic and 1 represents manual.\n",
    " - gear: Number of forward gears.\n",
    " - carb: Number of carburetors.\n",
    "\n",
    "**In this analysis, we will take a look at the relationship between a vehicle’s fuel eﬀiciency and its number of cylinders. We will consider cars with 4 cylinders as the “control” group, and cars with 6 and 8 cylinders as “treatment” groups.**   \n",
    "\n",
    "Note: mtcars: To view the data dictionary and get detailed information about the dataset, use the command ?mtcars or help(mtcars). This will open the documentation page for the dataset, where you can find descriptions of each variable, the dataset's source, and possibly examples of how to use the data."
   ]
  },
  {
   "cell_type": "code",
   "execution_count": 28,
   "metadata": {
    "deletable": false,
    "editable": false,
    "nbgrader": {
     "grade": false,
     "locked": true,
     "solution": false
    }
   },
   "outputs": [
    {
     "data": {
      "text/plain": [
       "      mpg             cyl             disp             hp       \n",
       " Min.   :10.40   Min.   :4.000   Min.   : 71.1   Min.   : 52.0  \n",
       " 1st Qu.:15.43   1st Qu.:4.000   1st Qu.:120.8   1st Qu.: 96.5  \n",
       " Median :19.20   Median :6.000   Median :196.3   Median :123.0  \n",
       " Mean   :20.09   Mean   :6.188   Mean   :230.7   Mean   :146.7  \n",
       " 3rd Qu.:22.80   3rd Qu.:8.000   3rd Qu.:326.0   3rd Qu.:180.0  \n",
       " Max.   :33.90   Max.   :8.000   Max.   :472.0   Max.   :335.0  \n",
       "      drat             wt             qsec             vs        \n",
       " Min.   :2.760   Min.   :1.513   Min.   :14.50   Min.   :0.0000  \n",
       " 1st Qu.:3.080   1st Qu.:2.581   1st Qu.:16.89   1st Qu.:0.0000  \n",
       " Median :3.695   Median :3.325   Median :17.71   Median :0.0000  \n",
       " Mean   :3.597   Mean   :3.217   Mean   :17.85   Mean   :0.4375  \n",
       " 3rd Qu.:3.920   3rd Qu.:3.610   3rd Qu.:18.90   3rd Qu.:1.0000  \n",
       " Max.   :4.930   Max.   :5.424   Max.   :22.90   Max.   :1.0000  \n",
       "       am              gear            carb      \n",
       " Min.   :0.0000   Min.   :3.000   Min.   :1.000  \n",
       " 1st Qu.:0.0000   1st Qu.:3.000   1st Qu.:2.000  \n",
       " Median :0.0000   Median :4.000   Median :2.000  \n",
       " Mean   :0.4062   Mean   :3.688   Mean   :2.812  \n",
       " 3rd Qu.:1.0000   3rd Qu.:4.000   3rd Qu.:4.000  \n",
       " Max.   :1.0000   Max.   :5.000   Max.   :8.000  "
      ]
     },
     "metadata": {},
     "output_type": "display_data"
    }
   ],
   "source": [
    "# Load libraries needed\n",
    "library(dplyr)\n",
    "library(datasets)\n",
    "\n",
    "# Load the mtcars dataset\n",
    "summary(mtcars)\n",
    "#?mtcars "
   ]
  },
  {
   "cell_type": "markdown",
   "metadata": {
    "deletable": false,
    "editable": false,
    "nbgrader": {
     "grade": false,
     "locked": true,
     "solution": false
    }
   },
   "source": [
    "### A. Create two separate datasets:  the first dataset (dataset1) containing  cars with 4 cylinders and 6 cylinders, and the second dataset (dataset2) containing cars with 4 cylinders and 8 cylinders. Then, apply a linear regression model to each dataset to compute the difference estimator (6-cylinders vs. 4-cylinders for dataset1, and 8-cylinders vs. 4-cylinders for dataset2). (7 points)\n",
    "\n",
    "**Note: You may need to convert values in 'cyl' to categorical**"
   ]
  },
  {
   "cell_type": "code",
   "execution_count": 29,
   "metadata": {},
   "outputs": [
    {
     "data": {
      "text/plain": [
       "\n",
       "Call:\n",
       "lm(formula = mpg ~ cyl, data = dataset_small_cyl)\n",
       "\n",
       "Residuals:\n",
       "    Min      1Q  Median      3Q     Max \n",
       "-5.2636 -2.1834 -0.2929  1.5571  7.2364 \n",
       "\n",
       "Coefficients:\n",
       "            Estimate Std. Error t value Pr(>|t|)    \n",
       "(Intercept)   26.664      1.108  24.065 5.43e-14 ***\n",
       "cyl6          -6.921      1.777  -3.895  0.00129 ** \n",
       "---\n",
       "Signif. codes:  0 ‘***’ 0.001 ‘**’ 0.01 ‘*’ 0.05 ‘.’ 0.1 ‘ ’ 1\n",
       "\n",
       "Residual standard error: 3.675 on 16 degrees of freedom\n",
       "Multiple R-squared:  0.4867,\tAdjusted R-squared:  0.4547 \n",
       "F-statistic: 15.17 on 1 and 16 DF,  p-value: 0.001287\n"
      ]
     },
     "metadata": {},
     "output_type": "display_data"
    },
    {
     "data": {
      "text/plain": [
       "\n",
       "Call:\n",
       "lm(formula = mpg ~ cyl, data = dataset_large_cyl)\n",
       "\n",
       "Residuals:\n",
       "   Min     1Q Median     3Q    Max \n",
       "-5.264 -2.264  0.100  2.200  7.236 \n",
       "\n",
       "Coefficients:\n",
       "            Estimate Std. Error t value Pr(>|t|)    \n",
       "(Intercept)   26.664      1.068  24.966  < 2e-16 ***\n",
       "cyl8         -11.564      1.427  -8.102 3.45e-08 ***\n",
       "---\n",
       "Signif. codes:  0 ‘***’ 0.001 ‘**’ 0.01 ‘*’ 0.05 ‘.’ 0.1 ‘ ’ 1\n",
       "\n",
       "Residual standard error: 3.542 on 23 degrees of freedom\n",
       "Multiple R-squared:  0.7405,\tAdjusted R-squared:  0.7293 \n",
       "F-statistic: 65.65 on 1 and 23 DF,  p-value: 3.446e-08\n"
      ]
     },
     "metadata": {},
     "output_type": "display_data"
    }
   ],
   "source": [
    "# Change cyl variable to a factor\n",
    "mtcars$cyl <- as.factor(mtcars$cyl)\n",
    "\n",
    "# Create two datasets\n",
    "dataset_small_cyl <- mtcars %>% filter(cyl == 4 | cyl == 6)\n",
    "dataset_large_cyl <- mtcars %>% filter(cyl == 4 | cyl == 8)\n",
    "\n",
    "# Fit linear regression for small cylinder dataset\n",
    "model_small_cyl <- lm(mpg ~ cyl, data = dataset_small_cyl)\n",
    "summary(model_small_cyl)\n",
    "\n",
    "# Fit linear regression for large cylinder dataset\n",
    "model_large_cyl <- lm(mpg ~ cyl, data = dataset_large_cyl)\n",
    "summary(model_large_cyl)\n"
   ]
  },
  {
   "cell_type": "markdown",
   "metadata": {},
   "source": [
    "Vehicles with 6 cylinders exhibit a difference estimator of -6.921, and those with 8 cylinders show a difference estimator of -11.564. For the dataset involving cars with 6 cylinders, the linear regression model yields a coefficient of -6.921 (p-value: 0.00129), indicating a significant negative effect on miles per gallon (mpg). In the case of cars with 8 cylinders, the model produces a coefficient of -11.564 (p-value: 3.45e-08), signifying a substantial negative impact on mpg. Both models demonstrate high statistical significance, with adjusted R-squared values of 0.4547 and 0.7293 for the 6-cylinder and 8-cylinder datasets, respectively."
   ]
  },
  {
   "cell_type": "markdown",
   "metadata": {
    "deletable": false,
    "editable": false,
    "nbgrader": {
     "grade": false,
     "locked": true,
     "solution": false
    }
   },
   "source": [
    "### B. From the ‘mtcars’ dataset, compute the average mpg (miles per gallon) for cars with 4 cylinders, cars with 6 cylinders, and cars with 8 cylinders. Comment on which group has the lowest average mpg. Please round your answer to two decimal places. (8 points)"
   ]
  },
  {
   "cell_type": "code",
   "execution_count": 30,
   "metadata": {},
   "outputs": [
    {
     "name": "stdout",
     "output_type": "stream",
     "text": [
      "Average MPG for cars with 4 cylinders: 26.66 \n",
      "Average MPG for cars with 6 cylinders: 19.74 \n",
      "Average MPG for cars with 8 cylinders: 15.1 \n"
     ]
    }
   ],
   "source": [
    "# SOLUTION BEGINS HERE\n",
    "# Load the mtcars dataset\n",
    "data(mtcars)\n",
    "\n",
    "# Compute the average mpg for cars with 4 cylinders\n",
    "avg_mpg_4cyl <- mean(mtcars$mpg[mtcars$cyl == 4], na.rm = TRUE)\n",
    "\n",
    "# Compute the average mpg for cars with 6 cylinders\n",
    "avg_mpg_6cyl <- mean(mtcars$mpg[mtcars$cyl == 6], na.rm = TRUE)\n",
    "\n",
    "# Compute the average mpg for cars with 8 cylinders\n",
    "avg_mpg_8cyl <- mean(mtcars$mpg[mtcars$cyl == 8], na.rm = TRUE)\n",
    "\n",
    "# Print the results\n",
    "cat(\"Average MPG for cars with 4 cylinders:\", round(avg_mpg_4cyl, 2), \"\\n\")\n",
    "cat(\"Average MPG for cars with 6 cylinders:\", round(avg_mpg_6cyl, 2), \"\\n\")\n",
    "cat(\"Average MPG for cars with 8 cylinders:\", round(avg_mpg_8cyl, 2), \"\\n\")\n",
    "\n",
    "# SOLUTION ENDS HERE"
   ]
  },
  {
   "cell_type": "markdown",
   "metadata": {},
   "source": [
    "The group with 4 cylinders has the highest average MPG (26.66).\n",
    "The group with 6 cylinders has a lower average MPG (19.74) compared to the 4-cylinder group.\n",
    "The group with 8 cylinders has the lowest average MPG (15.1) among the three groups.\n",
    "Therefore, in terms of fuel efficiency, the group with 4 cylinders tends to have the highest average miles per gallon, while the group with 8 cylinders has the lowest."
   ]
  },
  {
   "cell_type": "code",
   "execution_count": 31,
   "metadata": {},
   "outputs": [
    {
     "name": "stdout",
     "output_type": "stream",
     "text": [
      "                mpg cyl  disp  hp drat    wt  qsec vs am gear carb\n",
      "Mazda RX4      21.0   6 160.0 110 3.90 2.620 16.46  0  1    4    4\n",
      "Mazda RX4 Wag  21.0   6 160.0 110 3.90 2.875 17.02  0  1    4    4\n",
      "Datsun 710     22.8   4 108.0  93 3.85 2.320 18.61  1  1    4    1\n",
      "Hornet 4 Drive 21.4   6 258.0 110 3.08 3.215 19.44  1  0    3    1\n",
      "Valiant        18.1   6 225.0 105 2.76 3.460 20.22  1  0    3    1\n",
      "Merc 240D      24.4   4 146.7  62 3.69 3.190 20.00  1  0    4    2\n",
      "Merc 230       22.8   4 140.8  95 3.92 3.150 22.90  1  0    4    2\n",
      "Merc 280       19.2   6 167.6 123 3.92 3.440 18.30  1  0    4    4\n",
      "Merc 280C      17.8   6 167.6 123 3.92 3.440 18.90  1  0    4    4\n",
      "Fiat 128       32.4   4  78.7  66 4.08 2.200 19.47  1  1    4    1\n",
      "Honda Civic    30.4   4  75.7  52 4.93 1.615 18.52  1  1    4    2\n",
      "Toyota Corolla 33.9   4  71.1  65 4.22 1.835 19.90  1  1    4    1\n",
      "Toyota Corona  21.5   4 120.1  97 3.70 2.465 20.01  1  0    3    1\n",
      "Fiat X1-9      27.3   4  79.0  66 4.08 1.935 18.90  1  1    4    1\n",
      "Porsche 914-2  26.0   4 120.3  91 4.43 2.140 16.70  0  1    5    2\n",
      "Lotus Europa   30.4   4  95.1 113 3.77 1.513 16.90  1  1    5    2\n",
      "Ferrari Dino   19.7   6 145.0 175 3.62 2.770 15.50  0  1    5    6\n",
      "Volvo 142E     21.4   4 121.0 109 4.11 2.780 18.60  1  1    4    2\n"
     ]
    }
   ],
   "source": [
    "print(dataset_small_cyl)"
   ]
  },
  {
   "cell_type": "code",
   "execution_count": null,
   "metadata": {
    "collapsed": true
   },
   "outputs": [],
   "source": []
  },
  {
   "cell_type": "code",
   "execution_count": null,
   "metadata": {
    "collapsed": true
   },
   "outputs": [],
   "source": []
  }
 ],
 "metadata": {
  "kernelspec": {
   "display_name": "R 4.0.2",
   "language": "R",
   "name": "ir-4.0.2"
  },
  "language_info": {
   "codemirror_mode": "r",
   "file_extension": ".r",
   "mimetype": "text/x-r-source",
   "name": "R",
   "pygments_lexer": "r",
   "version": "4.0.2"
  }
 },
 "nbformat": 4,
 "nbformat_minor": 2
}
